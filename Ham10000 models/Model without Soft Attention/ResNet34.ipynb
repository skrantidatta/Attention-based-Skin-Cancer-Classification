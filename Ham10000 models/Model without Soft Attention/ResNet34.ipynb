{
 "cells": [
  {
   "cell_type": "code",
   "execution_count": 1,
   "metadata": {
    "id": "Aa36bMKLze3z"
   },
   "outputs": [],
   "source": [
    "import pandas as pd\n",
    "import numpy as np\n",
    "import os\n",
    "import tensorflow as tf\n",
    "import cv2\n",
    "from keras import backend as K\n",
    "from keras.layers import Layer,InputSpec\n",
    "import keras.layers as kl\n",
    "from glob import glob\n",
    "from sklearn.metrics import roc_curve, auc\n",
    "from keras.preprocessing import image\n",
    "from tensorflow.keras.models import Sequential\n",
    "from sklearn.metrics import roc_auc_score\n",
    "from tensorflow.keras import callbacks \n",
    "from tensorflow.keras.callbacks import ModelCheckpoint,EarlyStopping\n",
    "from  matplotlib import pyplot as plt\n",
    "from tensorflow.keras import Model\n",
    "from tensorflow.keras.layers import concatenate,Dense, Conv2D, MaxPooling2D, Flatten,Input,Activation,add,AveragePooling2D,GlobalAveragePooling2D,BatchNormalization,Dropout\n",
    "%matplotlib inline\n",
    "import shutil\n",
    "from sklearn.metrics import  precision_score, recall_score, accuracy_score,classification_report ,confusion_matrix\n",
    "from tensorflow.python.platform import build_info as tf_build_info\n",
    "from tensorflow.keras.preprocessing.image import ImageDataGenerator\n",
    "from sklearn.model_selection import train_test_split\n",
    "\n",
    "from PIL import ImageFile\n",
    "ImageFile.LOAD_TRUNCATED_IMAGES = True"
   ]
  },
  {
   "cell_type": "code",
   "execution_count": 2,
   "metadata": {
    "colab": {
     "base_uri": "https://localhost:8080/",
     "height": 206
    },
    "id": "lnzRzk7e44HL",
    "outputId": "6d1e2d2f-1669-42a6-f6a7-45a52b73ce41"
   },
   "outputs": [
    {
     "data": {
      "text/html": [
       "<div>\n",
       "<style scoped>\n",
       "    .dataframe tbody tr th:only-of-type {\n",
       "        vertical-align: middle;\n",
       "    }\n",
       "\n",
       "    .dataframe tbody tr th {\n",
       "        vertical-align: top;\n",
       "    }\n",
       "\n",
       "    .dataframe thead th {\n",
       "        text-align: right;\n",
       "    }\n",
       "</style>\n",
       "<table border=\"1\" class=\"dataframe\">\n",
       "  <thead>\n",
       "    <tr style=\"text-align: right;\">\n",
       "      <th></th>\n",
       "      <th>lesion_id</th>\n",
       "      <th>image_id</th>\n",
       "      <th>dx</th>\n",
       "      <th>dx_type</th>\n",
       "      <th>age</th>\n",
       "      <th>sex</th>\n",
       "      <th>localization</th>\n",
       "      <th>dataset</th>\n",
       "    </tr>\n",
       "  </thead>\n",
       "  <tbody>\n",
       "    <tr>\n",
       "      <th>0</th>\n",
       "      <td>HAM_0000118</td>\n",
       "      <td>ISIC_0027419</td>\n",
       "      <td>bkl</td>\n",
       "      <td>histo</td>\n",
       "      <td>80.0</td>\n",
       "      <td>male</td>\n",
       "      <td>scalp</td>\n",
       "      <td>vidir_modern</td>\n",
       "    </tr>\n",
       "    <tr>\n",
       "      <th>1</th>\n",
       "      <td>HAM_0000118</td>\n",
       "      <td>ISIC_0025030</td>\n",
       "      <td>bkl</td>\n",
       "      <td>histo</td>\n",
       "      <td>80.0</td>\n",
       "      <td>male</td>\n",
       "      <td>scalp</td>\n",
       "      <td>vidir_modern</td>\n",
       "    </tr>\n",
       "    <tr>\n",
       "      <th>2</th>\n",
       "      <td>HAM_0002730</td>\n",
       "      <td>ISIC_0026769</td>\n",
       "      <td>bkl</td>\n",
       "      <td>histo</td>\n",
       "      <td>80.0</td>\n",
       "      <td>male</td>\n",
       "      <td>scalp</td>\n",
       "      <td>vidir_modern</td>\n",
       "    </tr>\n",
       "    <tr>\n",
       "      <th>3</th>\n",
       "      <td>HAM_0002730</td>\n",
       "      <td>ISIC_0025661</td>\n",
       "      <td>bkl</td>\n",
       "      <td>histo</td>\n",
       "      <td>80.0</td>\n",
       "      <td>male</td>\n",
       "      <td>scalp</td>\n",
       "      <td>vidir_modern</td>\n",
       "    </tr>\n",
       "    <tr>\n",
       "      <th>4</th>\n",
       "      <td>HAM_0001466</td>\n",
       "      <td>ISIC_0031633</td>\n",
       "      <td>bkl</td>\n",
       "      <td>histo</td>\n",
       "      <td>75.0</td>\n",
       "      <td>male</td>\n",
       "      <td>ear</td>\n",
       "      <td>vidir_modern</td>\n",
       "    </tr>\n",
       "  </tbody>\n",
       "</table>\n",
       "</div>"
      ],
      "text/plain": [
       "     lesion_id      image_id   dx dx_type   age   sex localization  \\\n",
       "0  HAM_0000118  ISIC_0027419  bkl   histo  80.0  male        scalp   \n",
       "1  HAM_0000118  ISIC_0025030  bkl   histo  80.0  male        scalp   \n",
       "2  HAM_0002730  ISIC_0026769  bkl   histo  80.0  male        scalp   \n",
       "3  HAM_0002730  ISIC_0025661  bkl   histo  80.0  male        scalp   \n",
       "4  HAM_0001466  ISIC_0031633  bkl   histo  75.0  male          ear   \n",
       "\n",
       "        dataset  \n",
       "0  vidir_modern  \n",
       "1  vidir_modern  \n",
       "2  vidir_modern  \n",
       "3  vidir_modern  \n",
       "4  vidir_modern  "
      ]
     },
     "execution_count": 2,
     "metadata": {},
     "output_type": "execute_result"
    }
   ],
   "source": [
    "data_pd = pd.read_csv('D:/New_Capstone/Casptone/Data/HAM10000/HAM10000_metadata.csv')\n",
    "data_pd.head()"
   ]
  },
  {
   "cell_type": "code",
   "execution_count": 3,
   "metadata": {
    "id": "qlR6SjeEzXsm"
   },
   "outputs": [],
   "source": [
    "train_dir = os.path.join('D:/New_Capstone/Casptone/Data/HAM10000', 'train_dir')\n",
    "test_dir = os.path.join('D:/New_Capstone/Casptone/Data/HAM10000', 'test_dir')"
   ]
  },
  {
   "cell_type": "code",
   "execution_count": 4,
   "metadata": {
    "colab": {
     "base_uri": "https://localhost:8080/",
     "height": 237
    },
    "id": "_IFqPgUu5jPj",
    "outputId": "979e5d51-8319-435c-f4db-1981b452c849"
   },
   "outputs": [
    {
     "data": {
      "text/html": [
       "<div>\n",
       "<style scoped>\n",
       "    .dataframe tbody tr th:only-of-type {\n",
       "        vertical-align: middle;\n",
       "    }\n",
       "\n",
       "    .dataframe tbody tr th {\n",
       "        vertical-align: top;\n",
       "    }\n",
       "\n",
       "    .dataframe thead th {\n",
       "        text-align: right;\n",
       "    }\n",
       "</style>\n",
       "<table border=\"1\" class=\"dataframe\">\n",
       "  <thead>\n",
       "    <tr style=\"text-align: right;\">\n",
       "      <th></th>\n",
       "      <th>image_id</th>\n",
       "      <th>dx</th>\n",
       "      <th>dx_type</th>\n",
       "      <th>age</th>\n",
       "      <th>sex</th>\n",
       "      <th>localization</th>\n",
       "      <th>dataset</th>\n",
       "    </tr>\n",
       "    <tr>\n",
       "      <th>lesion_id</th>\n",
       "      <th></th>\n",
       "      <th></th>\n",
       "      <th></th>\n",
       "      <th></th>\n",
       "      <th></th>\n",
       "      <th></th>\n",
       "      <th></th>\n",
       "    </tr>\n",
       "  </thead>\n",
       "  <tbody>\n",
       "    <tr>\n",
       "      <th>HAM_0000000</th>\n",
       "      <td>2</td>\n",
       "      <td>2</td>\n",
       "      <td>2</td>\n",
       "      <td>2</td>\n",
       "      <td>2</td>\n",
       "      <td>2</td>\n",
       "      <td>2</td>\n",
       "    </tr>\n",
       "    <tr>\n",
       "      <th>HAM_0000001</th>\n",
       "      <td>1</td>\n",
       "      <td>1</td>\n",
       "      <td>1</td>\n",
       "      <td>1</td>\n",
       "      <td>1</td>\n",
       "      <td>1</td>\n",
       "      <td>1</td>\n",
       "    </tr>\n",
       "    <tr>\n",
       "      <th>HAM_0000002</th>\n",
       "      <td>3</td>\n",
       "      <td>3</td>\n",
       "      <td>3</td>\n",
       "      <td>3</td>\n",
       "      <td>3</td>\n",
       "      <td>3</td>\n",
       "      <td>3</td>\n",
       "    </tr>\n",
       "    <tr>\n",
       "      <th>HAM_0000003</th>\n",
       "      <td>1</td>\n",
       "      <td>1</td>\n",
       "      <td>1</td>\n",
       "      <td>1</td>\n",
       "      <td>1</td>\n",
       "      <td>1</td>\n",
       "      <td>1</td>\n",
       "    </tr>\n",
       "    <tr>\n",
       "      <th>HAM_0000004</th>\n",
       "      <td>1</td>\n",
       "      <td>1</td>\n",
       "      <td>1</td>\n",
       "      <td>1</td>\n",
       "      <td>1</td>\n",
       "      <td>1</td>\n",
       "      <td>1</td>\n",
       "    </tr>\n",
       "  </tbody>\n",
       "</table>\n",
       "</div>"
      ],
      "text/plain": [
       "             image_id  dx  dx_type  age  sex  localization  dataset\n",
       "lesion_id                                                          \n",
       "HAM_0000000         2   2        2    2    2             2        2\n",
       "HAM_0000001         1   1        1    1    1             1        1\n",
       "HAM_0000002         3   3        3    3    3             3        3\n",
       "HAM_0000003         1   1        1    1    1             1        1\n",
       "HAM_0000004         1   1        1    1    1             1        1"
      ]
     },
     "execution_count": 4,
     "metadata": {},
     "output_type": "execute_result"
    }
   ],
   "source": [
    "df_count = data_pd.groupby('lesion_id').count()\n",
    "df_count.head()"
   ]
  },
  {
   "cell_type": "code",
   "execution_count": 5,
   "metadata": {
    "id": "QjMQNZRI2xl7"
   },
   "outputs": [],
   "source": [
    "df_count = df_count[df_count['dx'] == 1]\n",
    "df_count.reset_index(inplace=True)"
   ]
  },
  {
   "cell_type": "code",
   "execution_count": 6,
   "metadata": {
    "id": "NeVfs-Ly95gs"
   },
   "outputs": [],
   "source": [
    "def duplicates(x):\n",
    "    unique = set(df_count['lesion_id'])\n",
    "    if x in unique:\n",
    "        return 'no' \n",
    "    else:\n",
    "        return 'duplicates'"
   ]
  },
  {
   "cell_type": "code",
   "execution_count": 7,
   "metadata": {
    "colab": {
     "base_uri": "https://localhost:8080/",
     "height": 206
    },
    "id": "2WZZRSzO5v8t",
    "outputId": "5042fd49-03f1-48a6-ed7b-ac849f1fe0c9"
   },
   "outputs": [
    {
     "data": {
      "text/html": [
       "<div>\n",
       "<style scoped>\n",
       "    .dataframe tbody tr th:only-of-type {\n",
       "        vertical-align: middle;\n",
       "    }\n",
       "\n",
       "    .dataframe tbody tr th {\n",
       "        vertical-align: top;\n",
       "    }\n",
       "\n",
       "    .dataframe thead th {\n",
       "        text-align: right;\n",
       "    }\n",
       "</style>\n",
       "<table border=\"1\" class=\"dataframe\">\n",
       "  <thead>\n",
       "    <tr style=\"text-align: right;\">\n",
       "      <th></th>\n",
       "      <th>lesion_id</th>\n",
       "      <th>image_id</th>\n",
       "      <th>dx</th>\n",
       "      <th>dx_type</th>\n",
       "      <th>age</th>\n",
       "      <th>sex</th>\n",
       "      <th>localization</th>\n",
       "      <th>dataset</th>\n",
       "      <th>is_duplicate</th>\n",
       "    </tr>\n",
       "  </thead>\n",
       "  <tbody>\n",
       "    <tr>\n",
       "      <th>0</th>\n",
       "      <td>HAM_0000118</td>\n",
       "      <td>ISIC_0027419</td>\n",
       "      <td>bkl</td>\n",
       "      <td>histo</td>\n",
       "      <td>80.0</td>\n",
       "      <td>male</td>\n",
       "      <td>scalp</td>\n",
       "      <td>vidir_modern</td>\n",
       "      <td>duplicates</td>\n",
       "    </tr>\n",
       "    <tr>\n",
       "      <th>1</th>\n",
       "      <td>HAM_0000118</td>\n",
       "      <td>ISIC_0025030</td>\n",
       "      <td>bkl</td>\n",
       "      <td>histo</td>\n",
       "      <td>80.0</td>\n",
       "      <td>male</td>\n",
       "      <td>scalp</td>\n",
       "      <td>vidir_modern</td>\n",
       "      <td>duplicates</td>\n",
       "    </tr>\n",
       "    <tr>\n",
       "      <th>2</th>\n",
       "      <td>HAM_0002730</td>\n",
       "      <td>ISIC_0026769</td>\n",
       "      <td>bkl</td>\n",
       "      <td>histo</td>\n",
       "      <td>80.0</td>\n",
       "      <td>male</td>\n",
       "      <td>scalp</td>\n",
       "      <td>vidir_modern</td>\n",
       "      <td>duplicates</td>\n",
       "    </tr>\n",
       "    <tr>\n",
       "      <th>3</th>\n",
       "      <td>HAM_0002730</td>\n",
       "      <td>ISIC_0025661</td>\n",
       "      <td>bkl</td>\n",
       "      <td>histo</td>\n",
       "      <td>80.0</td>\n",
       "      <td>male</td>\n",
       "      <td>scalp</td>\n",
       "      <td>vidir_modern</td>\n",
       "      <td>duplicates</td>\n",
       "    </tr>\n",
       "    <tr>\n",
       "      <th>4</th>\n",
       "      <td>HAM_0001466</td>\n",
       "      <td>ISIC_0031633</td>\n",
       "      <td>bkl</td>\n",
       "      <td>histo</td>\n",
       "      <td>75.0</td>\n",
       "      <td>male</td>\n",
       "      <td>ear</td>\n",
       "      <td>vidir_modern</td>\n",
       "      <td>duplicates</td>\n",
       "    </tr>\n",
       "  </tbody>\n",
       "</table>\n",
       "</div>"
      ],
      "text/plain": [
       "     lesion_id      image_id   dx dx_type   age   sex localization  \\\n",
       "0  HAM_0000118  ISIC_0027419  bkl   histo  80.0  male        scalp   \n",
       "1  HAM_0000118  ISIC_0025030  bkl   histo  80.0  male        scalp   \n",
       "2  HAM_0002730  ISIC_0026769  bkl   histo  80.0  male        scalp   \n",
       "3  HAM_0002730  ISIC_0025661  bkl   histo  80.0  male        scalp   \n",
       "4  HAM_0001466  ISIC_0031633  bkl   histo  75.0  male          ear   \n",
       "\n",
       "        dataset is_duplicate  \n",
       "0  vidir_modern   duplicates  \n",
       "1  vidir_modern   duplicates  \n",
       "2  vidir_modern   duplicates  \n",
       "3  vidir_modern   duplicates  \n",
       "4  vidir_modern   duplicates  "
      ]
     },
     "execution_count": 7,
     "metadata": {},
     "output_type": "execute_result"
    }
   ],
   "source": [
    "data_pd['is_duplicate'] = data_pd['lesion_id'].apply(duplicates)\n",
    "data_pd.head()"
   ]
  },
  {
   "cell_type": "code",
   "execution_count": 8,
   "metadata": {
    "id": "3BhGlAv0yAHu"
   },
   "outputs": [],
   "source": [
    "df_count = data_pd[data_pd['is_duplicate'] == 'no']"
   ]
  },
  {
   "cell_type": "code",
   "execution_count": null,
   "metadata": {
    "id": "Y3ndAO_Ex5fb"
   },
   "outputs": [],
   "source": [
    "# train, test_df = train_test_split(df_count, test_size=0.15, stratify=df_count['dx'])"
   ]
  },
  {
   "cell_type": "code",
   "execution_count": 9,
   "metadata": {},
   "outputs": [],
   "source": [
    "train = df_count\n",
    "test_df = pd.read_csv('D:/New_Capstone/Casptone/Data/HAM10000/ISIC2018_Task3_Test_GroundTruth.csv')"
   ]
  },
  {
   "cell_type": "code",
   "execution_count": 10,
   "metadata": {
    "colab": {
     "base_uri": "https://localhost:8080/",
     "height": 206
    },
    "id": "T7w2kYUdNkjX",
    "outputId": "5b6b9660-79f4-4fdb-ec79-4d5366f99a3e"
   },
   "outputs": [
    {
     "data": {
      "text/html": [
       "<div>\n",
       "<style scoped>\n",
       "    .dataframe tbody tr th:only-of-type {\n",
       "        vertical-align: middle;\n",
       "    }\n",
       "\n",
       "    .dataframe tbody tr th {\n",
       "        vertical-align: top;\n",
       "    }\n",
       "\n",
       "    .dataframe thead th {\n",
       "        text-align: right;\n",
       "    }\n",
       "</style>\n",
       "<table border=\"1\" class=\"dataframe\">\n",
       "  <thead>\n",
       "    <tr style=\"text-align: right;\">\n",
       "      <th></th>\n",
       "      <th>lesion_id</th>\n",
       "      <th>image_id</th>\n",
       "      <th>dx</th>\n",
       "      <th>dx_type</th>\n",
       "      <th>age</th>\n",
       "      <th>sex</th>\n",
       "      <th>localization</th>\n",
       "      <th>dataset</th>\n",
       "      <th>is_duplicate</th>\n",
       "      <th>train_test_split</th>\n",
       "    </tr>\n",
       "  </thead>\n",
       "  <tbody>\n",
       "    <tr>\n",
       "      <th>0</th>\n",
       "      <td>HAM_0000118</td>\n",
       "      <td>ISIC_0027419</td>\n",
       "      <td>bkl</td>\n",
       "      <td>histo</td>\n",
       "      <td>80.0</td>\n",
       "      <td>male</td>\n",
       "      <td>scalp</td>\n",
       "      <td>vidir_modern</td>\n",
       "      <td>duplicates</td>\n",
       "      <td>train</td>\n",
       "    </tr>\n",
       "    <tr>\n",
       "      <th>1</th>\n",
       "      <td>HAM_0000118</td>\n",
       "      <td>ISIC_0025030</td>\n",
       "      <td>bkl</td>\n",
       "      <td>histo</td>\n",
       "      <td>80.0</td>\n",
       "      <td>male</td>\n",
       "      <td>scalp</td>\n",
       "      <td>vidir_modern</td>\n",
       "      <td>duplicates</td>\n",
       "      <td>train</td>\n",
       "    </tr>\n",
       "    <tr>\n",
       "      <th>2</th>\n",
       "      <td>HAM_0002730</td>\n",
       "      <td>ISIC_0026769</td>\n",
       "      <td>bkl</td>\n",
       "      <td>histo</td>\n",
       "      <td>80.0</td>\n",
       "      <td>male</td>\n",
       "      <td>scalp</td>\n",
       "      <td>vidir_modern</td>\n",
       "      <td>duplicates</td>\n",
       "      <td>train</td>\n",
       "    </tr>\n",
       "    <tr>\n",
       "      <th>3</th>\n",
       "      <td>HAM_0002730</td>\n",
       "      <td>ISIC_0025661</td>\n",
       "      <td>bkl</td>\n",
       "      <td>histo</td>\n",
       "      <td>80.0</td>\n",
       "      <td>male</td>\n",
       "      <td>scalp</td>\n",
       "      <td>vidir_modern</td>\n",
       "      <td>duplicates</td>\n",
       "      <td>train</td>\n",
       "    </tr>\n",
       "    <tr>\n",
       "      <th>4</th>\n",
       "      <td>HAM_0001466</td>\n",
       "      <td>ISIC_0031633</td>\n",
       "      <td>bkl</td>\n",
       "      <td>histo</td>\n",
       "      <td>75.0</td>\n",
       "      <td>male</td>\n",
       "      <td>ear</td>\n",
       "      <td>vidir_modern</td>\n",
       "      <td>duplicates</td>\n",
       "      <td>train</td>\n",
       "    </tr>\n",
       "  </tbody>\n",
       "</table>\n",
       "</div>"
      ],
      "text/plain": [
       "     lesion_id      image_id   dx dx_type   age   sex localization  \\\n",
       "0  HAM_0000118  ISIC_0027419  bkl   histo  80.0  male        scalp   \n",
       "1  HAM_0000118  ISIC_0025030  bkl   histo  80.0  male        scalp   \n",
       "2  HAM_0002730  ISIC_0026769  bkl   histo  80.0  male        scalp   \n",
       "3  HAM_0002730  ISIC_0025661  bkl   histo  80.0  male        scalp   \n",
       "4  HAM_0001466  ISIC_0031633  bkl   histo  75.0  male          ear   \n",
       "\n",
       "        dataset is_duplicate train_test_split  \n",
       "0  vidir_modern   duplicates            train  \n",
       "1  vidir_modern   duplicates            train  \n",
       "2  vidir_modern   duplicates            train  \n",
       "3  vidir_modern   duplicates            train  \n",
       "4  vidir_modern   duplicates            train  "
      ]
     },
     "execution_count": 10,
     "metadata": {},
     "output_type": "execute_result"
    }
   ],
   "source": [
    "def identify_trainOrtest(x):\n",
    "    test_data = set(test_df['image_id'])\n",
    "    if str(x) in test_data:\n",
    "        return 'test'\n",
    "    else:\n",
    "        return 'train'\n",
    "\n",
    "#creating train_df\n",
    "data_pd['train_test_split'] = data_pd['image_id'].apply(identify_trainOrtest)\n",
    "train_df = data_pd[data_pd['train_test_split'] == 'train']\n",
    "train_df.head()"
   ]
  },
  {
   "cell_type": "code",
   "execution_count": 11,
   "metadata": {
    "colab": {
     "base_uri": "https://localhost:8080/",
     "height": 206
    },
    "id": "FPySEG1m58pu",
    "outputId": "18fd6e44-8d62-4a88-efa7-d29aa64637ae"
   },
   "outputs": [
    {
     "data": {
      "text/html": [
       "<div>\n",
       "<style scoped>\n",
       "    .dataframe tbody tr th:only-of-type {\n",
       "        vertical-align: middle;\n",
       "    }\n",
       "\n",
       "    .dataframe tbody tr th {\n",
       "        vertical-align: top;\n",
       "    }\n",
       "\n",
       "    .dataframe thead th {\n",
       "        text-align: right;\n",
       "    }\n",
       "</style>\n",
       "<table border=\"1\" class=\"dataframe\">\n",
       "  <thead>\n",
       "    <tr style=\"text-align: right;\">\n",
       "      <th></th>\n",
       "      <th>lesion_id</th>\n",
       "      <th>image_id</th>\n",
       "      <th>dx</th>\n",
       "      <th>dx_type</th>\n",
       "      <th>age</th>\n",
       "      <th>sex</th>\n",
       "      <th>localization</th>\n",
       "      <th>dataset</th>\n",
       "    </tr>\n",
       "  </thead>\n",
       "  <tbody>\n",
       "    <tr>\n",
       "      <th>0</th>\n",
       "      <td>HAMTEST_0000000</td>\n",
       "      <td>ISIC_0034524</td>\n",
       "      <td>nv</td>\n",
       "      <td>follow_up</td>\n",
       "      <td>40.0</td>\n",
       "      <td>female</td>\n",
       "      <td>back</td>\n",
       "      <td>vidir_molemax</td>\n",
       "    </tr>\n",
       "    <tr>\n",
       "      <th>1</th>\n",
       "      <td>HAMTEST_0000001</td>\n",
       "      <td>ISIC_0034525</td>\n",
       "      <td>nv</td>\n",
       "      <td>histo</td>\n",
       "      <td>70.0</td>\n",
       "      <td>male</td>\n",
       "      <td>abdomen</td>\n",
       "      <td>rosendahl</td>\n",
       "    </tr>\n",
       "    <tr>\n",
       "      <th>2</th>\n",
       "      <td>HAMTEST_0000002</td>\n",
       "      <td>ISIC_0034526</td>\n",
       "      <td>bkl</td>\n",
       "      <td>histo</td>\n",
       "      <td>70.0</td>\n",
       "      <td>male</td>\n",
       "      <td>back</td>\n",
       "      <td>rosendahl</td>\n",
       "    </tr>\n",
       "    <tr>\n",
       "      <th>3</th>\n",
       "      <td>HAMTEST_0000003</td>\n",
       "      <td>ISIC_0034527</td>\n",
       "      <td>nv</td>\n",
       "      <td>histo</td>\n",
       "      <td>35.0</td>\n",
       "      <td>male</td>\n",
       "      <td>trunk</td>\n",
       "      <td>vienna_dias</td>\n",
       "    </tr>\n",
       "    <tr>\n",
       "      <th>4</th>\n",
       "      <td>HAMTEST_0000004</td>\n",
       "      <td>ISIC_0034528</td>\n",
       "      <td>nv</td>\n",
       "      <td>follow_up</td>\n",
       "      <td>75.0</td>\n",
       "      <td>female</td>\n",
       "      <td>trunk</td>\n",
       "      <td>vidir_molemax</td>\n",
       "    </tr>\n",
       "  </tbody>\n",
       "</table>\n",
       "</div>"
      ],
      "text/plain": [
       "         lesion_id      image_id   dx    dx_type   age     sex localization  \\\n",
       "0  HAMTEST_0000000  ISIC_0034524   nv  follow_up  40.0  female         back   \n",
       "1  HAMTEST_0000001  ISIC_0034525   nv      histo  70.0    male      abdomen   \n",
       "2  HAMTEST_0000002  ISIC_0034526  bkl      histo  70.0    male         back   \n",
       "3  HAMTEST_0000003  ISIC_0034527   nv      histo  35.0    male        trunk   \n",
       "4  HAMTEST_0000004  ISIC_0034528   nv  follow_up  75.0  female        trunk   \n",
       "\n",
       "         dataset  \n",
       "0  vidir_molemax  \n",
       "1      rosendahl  \n",
       "2      rosendahl  \n",
       "3    vienna_dias  \n",
       "4  vidir_molemax  "
      ]
     },
     "execution_count": 11,
     "metadata": {},
     "output_type": "execute_result"
    }
   ],
   "source": [
    "test_df.head()"
   ]
  },
  {
   "cell_type": "code",
   "execution_count": 12,
   "metadata": {
    "id": "Ja7jQJQb39wi"
   },
   "outputs": [],
   "source": [
    "# Image id of train and test images\n",
    "train_list = list(train_df['image_id'])\n",
    "test_list = list(test_df['image_id'])"
   ]
  },
  {
   "cell_type": "code",
   "execution_count": 13,
   "metadata": {
    "colab": {
     "base_uri": "https://localhost:8080/"
    },
    "id": "lBJgBAjP13q5",
    "outputId": "463d1b3f-d77c-49b0-d89e-9ce5d21a47e0"
   },
   "outputs": [
    {
     "data": {
      "text/plain": [
       "1512"
      ]
     },
     "execution_count": 13,
     "metadata": {},
     "output_type": "execute_result"
    }
   ],
   "source": [
    "len(test_list)"
   ]
  },
  {
   "cell_type": "code",
   "execution_count": 14,
   "metadata": {
    "colab": {
     "base_uri": "https://localhost:8080/"
    },
    "id": "eEChk1DK-H8Z",
    "outputId": "612e1f17-9db3-4dea-c99e-0b7aa5ee566a"
   },
   "outputs": [
    {
     "data": {
      "text/plain": [
       "10015"
      ]
     },
     "execution_count": 14,
     "metadata": {},
     "output_type": "execute_result"
    }
   ],
   "source": [
    "len(train_list)"
   ]
  },
  {
   "cell_type": "code",
   "execution_count": 15,
   "metadata": {
    "id": "PIoMqylGAYYZ"
   },
   "outputs": [],
   "source": [
    "# Set the image_id as the index in data_pd\n",
    "data_pd.set_index('image_id', inplace=True)"
   ]
  },
  {
   "cell_type": "code",
   "execution_count": 16,
   "metadata": {
    "id": "Ja_PtDYyDPMM"
   },
   "outputs": [],
   "source": [
    "os.mkdir(train_dir)\n",
    "os.mkdir(test_dir)"
   ]
  },
  {
   "cell_type": "code",
   "execution_count": 17,
   "metadata": {
    "id": "PsoqCvNsgmHP"
   },
   "outputs": [],
   "source": [
    "targetnames = ['akiec', 'bcc', 'bkl', 'df', 'mel', 'nv', 'vasc']"
   ]
  },
  {
   "cell_type": "code",
   "execution_count": 18,
   "metadata": {
    "id": "9KYMTQugCmRR"
   },
   "outputs": [],
   "source": [
    "for i in targetnames:\n",
    "  directory1=train_dir+'/'+i\n",
    "  directory2=test_dir+'/'+i\n",
    "  os.mkdir(directory1)\n",
    "  os.mkdir(directory2)"
   ]
  },
  {
   "cell_type": "code",
   "execution_count": 23,
   "metadata": {
    "id": "GL9vFa3X-ty1"
   },
   "outputs": [
    {
     "ename": "FileNotFoundError",
     "evalue": "[Errno 2] No such file or directory: 'D:/New_Capstone/Casptone/Data/HAM10000/HAM10000_images/ISIC_0027419.jpg'",
     "output_type": "error",
     "traceback": [
      "\u001b[1;31m---------------------------------------------------------------------------\u001b[0m",
      "\u001b[1;31mFileNotFoundError\u001b[0m                         Traceback (most recent call last)",
      "\u001b[1;32md:\\New_Capstone\\Casptone\\Ham10000 models\\Model without Soft Attention\\ResNet34.ipynb Cell 20\u001b[0m line \u001b[0;36m1\n\u001b[0;32m      <a href='vscode-notebook-cell:/d%3A/New_Capstone/Casptone/Ham10000%20models/Model%20without%20Soft%20Attention/ResNet34.ipynb#X26sZmlsZQ%3D%3D?line=7'>8</a>\u001b[0m \u001b[39m# copying the image from the source to target file\u001b[39;00m\n\u001b[0;32m      <a href='vscode-notebook-cell:/d%3A/New_Capstone/Casptone/Ham10000%20models/Model%20without%20Soft%20Attention/ResNet34.ipynb#X26sZmlsZQ%3D%3D?line=8'>9</a>\u001b[0m target \u001b[39m=\u001b[39m os\u001b[39m.\u001b[39mpath\u001b[39m.\u001b[39mjoin(train_dir, label, file_name)\n\u001b[1;32m---> <a href='vscode-notebook-cell:/d%3A/New_Capstone/Casptone/Ham10000%20models/Model%20without%20Soft%20Attention/ResNet34.ipynb#X26sZmlsZQ%3D%3D?line=10'>11</a>\u001b[0m shutil\u001b[39m.\u001b[39;49mcopyfile(source, target)\n",
      "File \u001b[1;32mc:\\Users\\khanh\\AppData\\Local\\Programs\\Python\\Python39\\lib\\shutil.py:264\u001b[0m, in \u001b[0;36mcopyfile\u001b[1;34m(src, dst, follow_symlinks)\u001b[0m\n\u001b[0;32m    262\u001b[0m     os\u001b[39m.\u001b[39msymlink(os\u001b[39m.\u001b[39mreadlink(src), dst)\n\u001b[0;32m    263\u001b[0m \u001b[39melse\u001b[39;00m:\n\u001b[1;32m--> 264\u001b[0m     \u001b[39mwith\u001b[39;00m \u001b[39mopen\u001b[39;49m(src, \u001b[39m'\u001b[39;49m\u001b[39mrb\u001b[39;49m\u001b[39m'\u001b[39;49m) \u001b[39mas\u001b[39;00m fsrc:\n\u001b[0;32m    265\u001b[0m         \u001b[39mtry\u001b[39;00m:\n\u001b[0;32m    266\u001b[0m             \u001b[39mwith\u001b[39;00m \u001b[39mopen\u001b[39m(dst, \u001b[39m'\u001b[39m\u001b[39mwb\u001b[39m\u001b[39m'\u001b[39m) \u001b[39mas\u001b[39;00m fdst:\n\u001b[0;32m    267\u001b[0m                 \u001b[39m# macOS\u001b[39;00m\n",
      "\u001b[1;31mFileNotFoundError\u001b[0m: [Errno 2] No such file or directory: 'D:/New_Capstone/Casptone/Data/HAM10000/HAM10000_images/ISIC_0027419.jpg'"
     ]
    }
   ],
   "source": [
    "for image in train_list:\n",
    "    file_name = image+'.jpg'\n",
    "    label = data_pd.loc[image, 'dx']\n",
    "\n",
    "    # path of source image \n",
    "    source = os.path.join('D:/New_Capstone/Casptone/Data/HAM10000/HAM10000_images/', file_name)\n",
    "\n",
    "    # copying the image from the source to target file\n",
    "    target = os.path.join(train_dir, label, file_name)\n",
    "\n",
    "    shutil.copyfile(source, target)"
   ]
  },
  {
   "cell_type": "code",
   "execution_count": null,
   "metadata": {
    "id": "hwbKrEzJ_if2"
   },
   "outputs": [],
   "source": [
    "for image in test_list:\n",
    "\n",
    "    file_name = image+'.jpg'\n",
    "    label = data_pd.loc[image, 'dx']\n",
    "\n",
    "    # path of source image \n",
    "    source = os.path.join('HAM10000', file_name)\n",
    "\n",
    "    # copying the image from the source to target file\n",
    "    target = os.path.join(test_dir, label, file_name)\n",
    "\n",
    "    shutil.copyfile(source, target)"
   ]
  },
  {
   "cell_type": "code",
   "execution_count": null,
   "metadata": {
    "colab": {
     "base_uri": "https://localhost:8080/"
    },
    "id": "4W8hmE2OHjQa",
    "outputId": "e57e21fb-559b-40f8-8755-d8e45bd3e8a4"
   },
   "outputs": [
    {
     "name": "stdout",
     "output_type": "stream",
     "text": [
      "Found 304 images belonging to 1 classes.\n",
      "Found 488 images belonging to 1 classes.\n",
      "Found 1033 images belonging to 1 classes.\n",
      "Found 109 images belonging to 1 classes.\n",
      "Found 1079 images belonging to 1 classes.\n",
      "Found 6042 images belonging to 1 classes.\n",
      "Found 132 images belonging to 1 classes.\n"
     ]
    }
   ],
   "source": [
    "targetnames = ['akiec', 'bcc', 'bkl', 'df', 'mel', 'nv', 'vasc']\n",
    "\n",
    "# Augmenting images and storing them in temporary directories \n",
    "for img_class in targetnames:\n",
    "\n",
    "    #creating temporary directories\n",
    "    # creating a base directory\n",
    "    aug_dir = 'aug_dir'\n",
    "    os.mkdir(aug_dir)\n",
    "    # creating a subdirectory inside the base directory for images of the same class\n",
    "    img_dir = os.path.join(aug_dir, 'img_dir')\n",
    "    os.mkdir(img_dir)\n",
    "\n",
    "    img_list = os.listdir('HAM10000/train_dir/' + img_class)\n",
    "\n",
    "    # Copy images from the class train dir to the img_dir \n",
    "    for file_name in img_list:\n",
    "\n",
    "        # path of source image in training directory\n",
    "        source = os.path.join('HAM10000/train_dir/' + img_class, file_name)\n",
    "\n",
    "        # creating a target directory to send images \n",
    "        target = os.path.join(img_dir, file_name)\n",
    "\n",
    "        # copying the image from the source to target file\n",
    "        shutil.copyfile(source, target)\n",
    "\n",
    "    # Temporary augumented dataset directory.\n",
    "    source_path = aug_dir\n",
    "\n",
    "    # Augmented images will be saved to training directory\n",
    "    save_path = 'HAM10000/train_dir/' + img_class\n",
    "\n",
    "    # Creating Image Data Generator to augment images\n",
    "    datagen = tf.keras.preprocessing.image.ImageDataGenerator(\n",
    "\n",
    "        rotation_range=180,\n",
    "        width_shift_range=0.1,\n",
    "        height_shift_range=0.1,\n",
    "        zoom_range=0.1,\n",
    "        horizontal_flip=True,\n",
    "        vertical_flip=True,\n",
    "        fill_mode='nearest'\n",
    "\n",
    "    )\n",
    "\n",
    "    batch_size = 50\n",
    "\n",
    "    aug_datagen = datagen.flow_from_directory(source_path,save_to_dir=save_path,save_format='jpg',target_size=(224, 224),batch_size=batch_size)\n",
    "\n",
    "    # Generate the augmented images\n",
    "    aug_images = 8000 \n",
    "\n",
    "    num_files = len(os.listdir(img_dir))\n",
    "    num_batches = int(np.ceil((aug_images - num_files) / batch_size))\n",
    "\n",
    "    # creating 8000 augmented images per class\n",
    "    for i in range(0, num_batches):\n",
    "        images, labels = next(aug_datagen)\n",
    "\n",
    "    # delete temporary directory \n",
    "    shutil.rmtree('aug_dir')\n"
   ]
  },
  {
   "cell_type": "code",
   "execution_count": null,
   "metadata": {
    "id": "wNisha_gM3_Z"
   },
   "outputs": [],
   "source": [
    "train_path = 'HAM10000/train_dir'\n",
    "test_path = 'HAM10000/test_dir'\n",
    "batch_size=16"
   ]
  },
  {
   "cell_type": "code",
   "execution_count": null,
   "metadata": {
    "id": "zhQWqdRN79B3"
   },
   "outputs": [],
   "source": [
    "datagen=ImageDataGenerator(preprocessing_function=tf.keras.applications.inception_resnet_v2.preprocess_input)"
   ]
  },
  {
   "cell_type": "code",
   "execution_count": null,
   "metadata": {
    "colab": {
     "base_uri": "https://localhost:8080/"
    },
    "id": "w9_8FvOO7Rtu",
    "outputId": "7ca88c24-fda8-45d6-cb32-f3a43ae6ba5b"
   },
   "outputs": [
    {
     "name": "stdout",
     "output_type": "stream",
     "text": [
      "\n",
      "Train Batches: \n",
      "Found 51699 images belonging to 7 classes.\n",
      "\n",
      "Test Batches: \n",
      "Found 828 images belonging to 7 classes.\n"
     ]
    }
   ],
   "source": [
    "image_size = 224\n",
    "print(\"\\nTrain Batches: \")\n",
    "train_batches = datagen.flow_from_directory(directory=train_path,\n",
    "                                            target_size=(image_size,image_size),\n",
    "                                            batch_size=batch_size,\n",
    "                                            shuffle=True)\n",
    "\n",
    "print(\"\\nTest Batches: \")\n",
    "test_batches =datagen.flow_from_directory(test_path,\n",
    "                                           target_size=(image_size,image_size),\n",
    "                                           batch_size=batch_size,\n",
    "                                           shuffle=False)"
   ]
  },
  {
   "cell_type": "code",
   "execution_count": null,
   "metadata": {
    "id": "hFTeCTrHxmVB"
   },
   "outputs": [],
   "source": [
    "MainInput=Input(shape=(224, 224, 3))"
   ]
  },
  {
   "cell_type": "markdown",
   "metadata": {
    "id": "KhGQyMhOpeCD"
   },
   "source": [
    "Convolution Layer1"
   ]
  },
  {
   "cell_type": "code",
   "execution_count": null,
   "metadata": {
    "id": "odCmp11yPxH8"
   },
   "outputs": [],
   "source": [
    "def convlayer1(input_value):\n",
    "  conv1=Conv2D(filters=64, kernel_size=(3,3), strides=(2,2),activation=\"relu\",padding=\"same\")(input_value)\n",
    "  conv1=BatchNormalization()(conv1)\n",
    "  pool1=MaxPooling2D(pool_size=(3, 3), strides=(2, 2), padding=\"same\")(conv1)\n",
    "  return pool1"
   ]
  },
  {
   "cell_type": "markdown",
   "metadata": {
    "id": "R1ZKWzO4pilI"
   },
   "source": [
    "Convolution Layer2"
   ]
  },
  {
   "cell_type": "code",
   "execution_count": null,
   "metadata": {
    "id": "HT1YXwIPRZbf"
   },
   "outputs": [],
   "source": [
    "def convlayer2(input_value):\n",
    "  conv2=Conv2D(filters=64, kernel_size=(3,3),activation=\"relu\",padding=\"same\")(input_value)\n",
    "  conv2=BatchNormalization()(conv2)\n",
    "  conv2=Conv2D(filters=64, kernel_size=(3,3),activation=\"relu\",padding=\"same\")(conv2)\n",
    "  conv2=BatchNormalization()(conv2)\n",
    "\n",
    "  resnet=add([input_value,conv2])\n",
    "  resnet=Activation(\"relu\")(resnet)\n",
    "  return resnet"
   ]
  },
  {
   "cell_type": "markdown",
   "metadata": {
    "id": "USBhFR5gpnME"
   },
   "source": [
    "Convolution Layer3"
   ]
  },
  {
   "cell_type": "code",
   "execution_count": null,
   "metadata": {
    "id": "_nPg2HJpYgz9"
   },
   "outputs": [],
   "source": [
    "def convlayer3(input_value):\n",
    "  conv3=Conv2D(filters=128, kernel_size=(3,3),activation=\"relu\",padding=\"same\")(input_value)\n",
    "  conv3=BatchNormalization()(conv3)\n",
    "  conv3=Conv2D(filters=128, kernel_size=(3,3),activation=\"relu\",padding=\"same\")(conv3)\n",
    "  conv3=BatchNormalization()(conv3)\n",
    "\n",
    "\n",
    "  skip=Conv2D(filters=128, kernel_size=(3,3),activation=\"relu\",padding=\"same\")(input_value)\n",
    "  skip=BatchNormalization()(skip)\n",
    "\n",
    "  resnet=add([skip,conv3])\n",
    "  resnet=Activation(\"relu\")(resnet)\n",
    "  return resnet"
   ]
  },
  {
   "cell_type": "markdown",
   "metadata": {
    "id": "I4tsl9j4pqbM"
   },
   "source": [
    "Convolution Layer4"
   ]
  },
  {
   "cell_type": "code",
   "execution_count": null,
   "metadata": {
    "id": "qdF17bOVcOgm"
   },
   "outputs": [],
   "source": [
    "def convlayer4(input_value):\n",
    "  conv4=Conv2D(filters=256, kernel_size=(3,3),activation=\"relu\",padding=\"same\")(input_value)\n",
    "  conv4=BatchNormalization()(conv4)\n",
    "  conv4=Conv2D(filters=256, kernel_size=(3,3),activation=\"relu\",padding=\"same\")(conv4)\n",
    "  conv4=BatchNormalization()(conv4)\n",
    "\n",
    "\n",
    "  skip=Conv2D(filters=256, kernel_size=(3,3),activation=\"relu\",padding=\"same\")(input_value)\n",
    "  skip=BatchNormalization()(skip)\n",
    "\n",
    "  resnet=add([skip,conv4])\n",
    "  resnet=Activation(\"relu\")(resnet)\n",
    "  return resnet"
   ]
  },
  {
   "cell_type": "markdown",
   "metadata": {
    "id": "XtCmWBrMpsPa"
   },
   "source": [
    "Convolution Layer5"
   ]
  },
  {
   "cell_type": "code",
   "execution_count": null,
   "metadata": {
    "id": "UvPYkGTaeLhZ"
   },
   "outputs": [],
   "source": [
    "def convlayer5(input_value):\n",
    "  conv5=Conv2D(filters=512, kernel_size=(3,3),activation=\"relu\",padding=\"same\")(input_value)\n",
    "  conv5=BatchNormalization()(conv5)\n",
    "  conv5=Conv2D(filters=512, kernel_size=(3,3),activation=\"relu\",padding=\"same\")(conv5)\n",
    "  conv5=BatchNormalization()(conv5)\n",
    "\n",
    "\n",
    "  skip=Conv2D(filters=512, kernel_size=(3,3),activation=\"relu\",padding=\"same\")(input_value)\n",
    "  skip=BatchNormalization()(skip)\n",
    "\n",
    "  resnet=add([skip,conv5])\n",
    "  resnet=Activation(\"relu\")(resnet)\n",
    "  return resnet"
   ]
  },
  {
   "cell_type": "markdown",
   "metadata": {
    "id": "2DOcFrdJpufS"
   },
   "source": [
    "Model Creation"
   ]
  },
  {
   "cell_type": "markdown",
   "metadata": {
    "id": "IAdwZSB1vdkh"
   },
   "source": [
    "Block 1"
   ]
  },
  {
   "cell_type": "code",
   "execution_count": null,
   "metadata": {
    "id": "3ArglzcZVVQz"
   },
   "outputs": [],
   "source": [
    "block1=convlayer1(MainInput)"
   ]
  },
  {
   "cell_type": "markdown",
   "metadata": {
    "id": "1sPrsEv-vfvK"
   },
   "source": [
    "Block 2"
   ]
  },
  {
   "cell_type": "code",
   "execution_count": null,
   "metadata": {
    "id": "KOgJnwJ1oUtt"
   },
   "outputs": [],
   "source": [
    "block2=convlayer2(block1)\n",
    "for i in range(0,2):\n",
    "  block2=convlayer2(block2)"
   ]
  },
  {
   "cell_type": "markdown",
   "metadata": {
    "id": "E5Mi_fqivut7"
   },
   "source": [
    "Block 3"
   ]
  },
  {
   "cell_type": "code",
   "execution_count": null,
   "metadata": {
    "id": "rcwxMRksoU8e"
   },
   "outputs": [],
   "source": [
    "maxpool=MaxPooling2D(pool_size=(2,2), padding='same')(block2)\n",
    "block3=convlayer3(maxpool)\n",
    "\n",
    "for i in range(0,3):\n",
    "  block3=convlayer3(block3)"
   ]
  },
  {
   "cell_type": "markdown",
   "metadata": {
    "id": "uJ-QboJVvxlp"
   },
   "source": [
    "Block 4"
   ]
  },
  {
   "cell_type": "code",
   "execution_count": null,
   "metadata": {
    "id": "efPzoqDUolU7"
   },
   "outputs": [],
   "source": [
    "block4=convlayer4(block3)\n",
    "for i in range(0,5):\n",
    "  block4=convlayer4(block4)"
   ]
  },
  {
   "cell_type": "markdown",
   "metadata": {
    "id": "0EoaJhSSvzWV"
   },
   "source": [
    "Block 5"
   ]
  },
  {
   "cell_type": "code",
   "execution_count": null,
   "metadata": {
    "id": "Ok6DJ5Keol4p"
   },
   "outputs": [],
   "source": [
    "maxpool=MaxPooling2D(pool_size=(2,2), padding='same')(block4)\n",
    "block5=convlayer5(maxpool)\n",
    "for i in range(0,2):\n",
    "  block5=convlayer5(block5)"
   ]
  },
  {
   "cell_type": "markdown",
   "metadata": {
    "id": "5dAWWGdqv1NV"
   },
   "source": [
    "Output Layer"
   ]
  },
  {
   "cell_type": "code",
   "execution_count": null,
   "metadata": {
    "id": "R13YR5JxVpOg"
   },
   "outputs": [],
   "source": [
    "\n",
    "output = GlobalAveragePooling2D()(block5)\n",
    "output = Dense(7, activation='softmax')(output)\n",
    "model = Model(inputs=MainInput, outputs=output)"
   ]
  },
  {
   "cell_type": "code",
   "execution_count": null,
   "metadata": {
    "colab": {
     "base_uri": "https://localhost:8080/"
    },
    "id": "qjaB6OrPkhFq",
    "outputId": "f2dadd21-eaba-4d1b-c517-f03d4765e58a"
   },
   "outputs": [
    {
     "name": "stdout",
     "output_type": "stream",
     "text": [
      "Model: \"model\"\n",
      "__________________________________________________________________________________________________\n",
      "Layer (type)                    Output Shape         Param #     Connected to                     \n",
      "==================================================================================================\n",
      "input_1 (InputLayer)            [(None, 224, 224, 3) 0                                            \n",
      "__________________________________________________________________________________________________\n",
      "conv2d (Conv2D)                 (None, 112, 112, 64) 1792        input_1[0][0]                    \n",
      "__________________________________________________________________________________________________\n",
      "batch_normalization (BatchNorma (None, 112, 112, 64) 256         conv2d[0][0]                     \n",
      "__________________________________________________________________________________________________\n",
      "max_pooling2d (MaxPooling2D)    (None, 56, 56, 64)   0           batch_normalization[0][0]        \n",
      "__________________________________________________________________________________________________\n",
      "conv2d_1 (Conv2D)               (None, 56, 56, 64)   36928       max_pooling2d[0][0]              \n",
      "__________________________________________________________________________________________________\n",
      "batch_normalization_1 (BatchNor (None, 56, 56, 64)   256         conv2d_1[0][0]                   \n",
      "__________________________________________________________________________________________________\n",
      "conv2d_2 (Conv2D)               (None, 56, 56, 64)   36928       batch_normalization_1[0][0]      \n",
      "__________________________________________________________________________________________________\n",
      "batch_normalization_2 (BatchNor (None, 56, 56, 64)   256         conv2d_2[0][0]                   \n",
      "__________________________________________________________________________________________________\n",
      "add (Add)                       (None, 56, 56, 64)   0           max_pooling2d[0][0]              \n",
      "                                                                 batch_normalization_2[0][0]      \n",
      "__________________________________________________________________________________________________\n",
      "activation (Activation)         (None, 56, 56, 64)   0           add[0][0]                        \n",
      "__________________________________________________________________________________________________\n",
      "conv2d_3 (Conv2D)               (None, 56, 56, 64)   36928       activation[0][0]                 \n",
      "__________________________________________________________________________________________________\n",
      "batch_normalization_3 (BatchNor (None, 56, 56, 64)   256         conv2d_3[0][0]                   \n",
      "__________________________________________________________________________________________________\n",
      "conv2d_4 (Conv2D)               (None, 56, 56, 64)   36928       batch_normalization_3[0][0]      \n",
      "__________________________________________________________________________________________________\n",
      "batch_normalization_4 (BatchNor (None, 56, 56, 64)   256         conv2d_4[0][0]                   \n",
      "__________________________________________________________________________________________________\n",
      "add_1 (Add)                     (None, 56, 56, 64)   0           activation[0][0]                 \n",
      "                                                                 batch_normalization_4[0][0]      \n",
      "__________________________________________________________________________________________________\n",
      "activation_1 (Activation)       (None, 56, 56, 64)   0           add_1[0][0]                      \n",
      "__________________________________________________________________________________________________\n",
      "conv2d_5 (Conv2D)               (None, 56, 56, 64)   36928       activation_1[0][0]               \n",
      "__________________________________________________________________________________________________\n",
      "batch_normalization_5 (BatchNor (None, 56, 56, 64)   256         conv2d_5[0][0]                   \n",
      "__________________________________________________________________________________________________\n",
      "conv2d_6 (Conv2D)               (None, 56, 56, 64)   36928       batch_normalization_5[0][0]      \n",
      "__________________________________________________________________________________________________\n",
      "batch_normalization_6 (BatchNor (None, 56, 56, 64)   256         conv2d_6[0][0]                   \n",
      "__________________________________________________________________________________________________\n",
      "add_2 (Add)                     (None, 56, 56, 64)   0           activation_1[0][0]               \n",
      "                                                                 batch_normalization_6[0][0]      \n",
      "__________________________________________________________________________________________________\n",
      "activation_2 (Activation)       (None, 56, 56, 64)   0           add_2[0][0]                      \n",
      "__________________________________________________________________________________________________\n",
      "max_pooling2d_1 (MaxPooling2D)  (None, 28, 28, 64)   0           activation_2[0][0]               \n",
      "__________________________________________________________________________________________________\n",
      "conv2d_7 (Conv2D)               (None, 28, 28, 128)  73856       max_pooling2d_1[0][0]            \n",
      "__________________________________________________________________________________________________\n",
      "batch_normalization_7 (BatchNor (None, 28, 28, 128)  512         conv2d_7[0][0]                   \n",
      "__________________________________________________________________________________________________\n",
      "conv2d_9 (Conv2D)               (None, 28, 28, 128)  73856       max_pooling2d_1[0][0]            \n",
      "__________________________________________________________________________________________________\n",
      "conv2d_8 (Conv2D)               (None, 28, 28, 128)  147584      batch_normalization_7[0][0]      \n",
      "__________________________________________________________________________________________________\n",
      "batch_normalization_9 (BatchNor (None, 28, 28, 128)  512         conv2d_9[0][0]                   \n",
      "__________________________________________________________________________________________________\n",
      "batch_normalization_8 (BatchNor (None, 28, 28, 128)  512         conv2d_8[0][0]                   \n",
      "__________________________________________________________________________________________________\n",
      "add_3 (Add)                     (None, 28, 28, 128)  0           batch_normalization_9[0][0]      \n",
      "                                                                 batch_normalization_8[0][0]      \n",
      "__________________________________________________________________________________________________\n",
      "activation_3 (Activation)       (None, 28, 28, 128)  0           add_3[0][0]                      \n",
      "__________________________________________________________________________________________________\n",
      "conv2d_10 (Conv2D)              (None, 28, 28, 128)  147584      activation_3[0][0]               \n",
      "__________________________________________________________________________________________________\n",
      "batch_normalization_10 (BatchNo (None, 28, 28, 128)  512         conv2d_10[0][0]                  \n",
      "__________________________________________________________________________________________________\n",
      "conv2d_12 (Conv2D)              (None, 28, 28, 128)  147584      activation_3[0][0]               \n",
      "__________________________________________________________________________________________________\n",
      "conv2d_11 (Conv2D)              (None, 28, 28, 128)  147584      batch_normalization_10[0][0]     \n",
      "__________________________________________________________________________________________________\n",
      "batch_normalization_12 (BatchNo (None, 28, 28, 128)  512         conv2d_12[0][0]                  \n",
      "__________________________________________________________________________________________________\n",
      "batch_normalization_11 (BatchNo (None, 28, 28, 128)  512         conv2d_11[0][0]                  \n",
      "__________________________________________________________________________________________________\n",
      "add_4 (Add)                     (None, 28, 28, 128)  0           batch_normalization_12[0][0]     \n",
      "                                                                 batch_normalization_11[0][0]     \n",
      "__________________________________________________________________________________________________\n",
      "activation_4 (Activation)       (None, 28, 28, 128)  0           add_4[0][0]                      \n",
      "__________________________________________________________________________________________________\n",
      "conv2d_13 (Conv2D)              (None, 28, 28, 128)  147584      activation_4[0][0]               \n",
      "__________________________________________________________________________________________________\n",
      "batch_normalization_13 (BatchNo (None, 28, 28, 128)  512         conv2d_13[0][0]                  \n",
      "__________________________________________________________________________________________________\n",
      "conv2d_15 (Conv2D)              (None, 28, 28, 128)  147584      activation_4[0][0]               \n",
      "__________________________________________________________________________________________________\n",
      "conv2d_14 (Conv2D)              (None, 28, 28, 128)  147584      batch_normalization_13[0][0]     \n",
      "__________________________________________________________________________________________________\n",
      "batch_normalization_15 (BatchNo (None, 28, 28, 128)  512         conv2d_15[0][0]                  \n",
      "__________________________________________________________________________________________________\n",
      "batch_normalization_14 (BatchNo (None, 28, 28, 128)  512         conv2d_14[0][0]                  \n",
      "__________________________________________________________________________________________________\n",
      "add_5 (Add)                     (None, 28, 28, 128)  0           batch_normalization_15[0][0]     \n",
      "                                                                 batch_normalization_14[0][0]     \n",
      "__________________________________________________________________________________________________\n",
      "activation_5 (Activation)       (None, 28, 28, 128)  0           add_5[0][0]                      \n",
      "__________________________________________________________________________________________________\n",
      "conv2d_16 (Conv2D)              (None, 28, 28, 128)  147584      activation_5[0][0]               \n",
      "__________________________________________________________________________________________________\n",
      "batch_normalization_16 (BatchNo (None, 28, 28, 128)  512         conv2d_16[0][0]                  \n",
      "__________________________________________________________________________________________________\n",
      "conv2d_18 (Conv2D)              (None, 28, 28, 128)  147584      activation_5[0][0]               \n",
      "__________________________________________________________________________________________________\n",
      "conv2d_17 (Conv2D)              (None, 28, 28, 128)  147584      batch_normalization_16[0][0]     \n",
      "__________________________________________________________________________________________________\n",
      "batch_normalization_18 (BatchNo (None, 28, 28, 128)  512         conv2d_18[0][0]                  \n",
      "__________________________________________________________________________________________________\n",
      "batch_normalization_17 (BatchNo (None, 28, 28, 128)  512         conv2d_17[0][0]                  \n",
      "__________________________________________________________________________________________________\n",
      "add_6 (Add)                     (None, 28, 28, 128)  0           batch_normalization_18[0][0]     \n",
      "                                                                 batch_normalization_17[0][0]     \n",
      "__________________________________________________________________________________________________\n",
      "activation_6 (Activation)       (None, 28, 28, 128)  0           add_6[0][0]                      \n",
      "__________________________________________________________________________________________________\n",
      "conv2d_19 (Conv2D)              (None, 28, 28, 256)  295168      activation_6[0][0]               \n",
      "__________________________________________________________________________________________________\n",
      "batch_normalization_19 (BatchNo (None, 28, 28, 256)  1024        conv2d_19[0][0]                  \n",
      "__________________________________________________________________________________________________\n",
      "conv2d_21 (Conv2D)              (None, 28, 28, 256)  295168      activation_6[0][0]               \n",
      "__________________________________________________________________________________________________\n",
      "conv2d_20 (Conv2D)              (None, 28, 28, 256)  590080      batch_normalization_19[0][0]     \n",
      "__________________________________________________________________________________________________\n",
      "batch_normalization_21 (BatchNo (None, 28, 28, 256)  1024        conv2d_21[0][0]                  \n",
      "__________________________________________________________________________________________________\n",
      "batch_normalization_20 (BatchNo (None, 28, 28, 256)  1024        conv2d_20[0][0]                  \n",
      "__________________________________________________________________________________________________\n",
      "add_7 (Add)                     (None, 28, 28, 256)  0           batch_normalization_21[0][0]     \n",
      "                                                                 batch_normalization_20[0][0]     \n",
      "__________________________________________________________________________________________________\n",
      "activation_7 (Activation)       (None, 28, 28, 256)  0           add_7[0][0]                      \n",
      "__________________________________________________________________________________________________\n",
      "conv2d_22 (Conv2D)              (None, 28, 28, 256)  590080      activation_7[0][0]               \n",
      "__________________________________________________________________________________________________\n",
      "batch_normalization_22 (BatchNo (None, 28, 28, 256)  1024        conv2d_22[0][0]                  \n",
      "__________________________________________________________________________________________________\n",
      "conv2d_24 (Conv2D)              (None, 28, 28, 256)  590080      activation_7[0][0]               \n",
      "__________________________________________________________________________________________________\n",
      "conv2d_23 (Conv2D)              (None, 28, 28, 256)  590080      batch_normalization_22[0][0]     \n",
      "__________________________________________________________________________________________________\n",
      "batch_normalization_24 (BatchNo (None, 28, 28, 256)  1024        conv2d_24[0][0]                  \n",
      "__________________________________________________________________________________________________\n",
      "batch_normalization_23 (BatchNo (None, 28, 28, 256)  1024        conv2d_23[0][0]                  \n",
      "__________________________________________________________________________________________________\n",
      "add_8 (Add)                     (None, 28, 28, 256)  0           batch_normalization_24[0][0]     \n",
      "                                                                 batch_normalization_23[0][0]     \n",
      "__________________________________________________________________________________________________\n",
      "activation_8 (Activation)       (None, 28, 28, 256)  0           add_8[0][0]                      \n",
      "__________________________________________________________________________________________________\n",
      "conv2d_25 (Conv2D)              (None, 28, 28, 256)  590080      activation_8[0][0]               \n",
      "__________________________________________________________________________________________________\n",
      "batch_normalization_25 (BatchNo (None, 28, 28, 256)  1024        conv2d_25[0][0]                  \n",
      "__________________________________________________________________________________________________\n",
      "conv2d_27 (Conv2D)              (None, 28, 28, 256)  590080      activation_8[0][0]               \n",
      "__________________________________________________________________________________________________\n",
      "conv2d_26 (Conv2D)              (None, 28, 28, 256)  590080      batch_normalization_25[0][0]     \n",
      "__________________________________________________________________________________________________\n",
      "batch_normalization_27 (BatchNo (None, 28, 28, 256)  1024        conv2d_27[0][0]                  \n",
      "__________________________________________________________________________________________________\n",
      "batch_normalization_26 (BatchNo (None, 28, 28, 256)  1024        conv2d_26[0][0]                  \n",
      "__________________________________________________________________________________________________\n",
      "add_9 (Add)                     (None, 28, 28, 256)  0           batch_normalization_27[0][0]     \n",
      "                                                                 batch_normalization_26[0][0]     \n",
      "__________________________________________________________________________________________________\n",
      "activation_9 (Activation)       (None, 28, 28, 256)  0           add_9[0][0]                      \n",
      "__________________________________________________________________________________________________\n",
      "conv2d_28 (Conv2D)              (None, 28, 28, 256)  590080      activation_9[0][0]               \n",
      "__________________________________________________________________________________________________\n",
      "batch_normalization_28 (BatchNo (None, 28, 28, 256)  1024        conv2d_28[0][0]                  \n",
      "__________________________________________________________________________________________________\n",
      "conv2d_30 (Conv2D)              (None, 28, 28, 256)  590080      activation_9[0][0]               \n",
      "__________________________________________________________________________________________________\n",
      "conv2d_29 (Conv2D)              (None, 28, 28, 256)  590080      batch_normalization_28[0][0]     \n",
      "__________________________________________________________________________________________________\n",
      "batch_normalization_30 (BatchNo (None, 28, 28, 256)  1024        conv2d_30[0][0]                  \n",
      "__________________________________________________________________________________________________\n",
      "batch_normalization_29 (BatchNo (None, 28, 28, 256)  1024        conv2d_29[0][0]                  \n",
      "__________________________________________________________________________________________________\n",
      "add_10 (Add)                    (None, 28, 28, 256)  0           batch_normalization_30[0][0]     \n",
      "                                                                 batch_normalization_29[0][0]     \n",
      "__________________________________________________________________________________________________\n",
      "activation_10 (Activation)      (None, 28, 28, 256)  0           add_10[0][0]                     \n",
      "__________________________________________________________________________________________________\n",
      "conv2d_31 (Conv2D)              (None, 28, 28, 256)  590080      activation_10[0][0]              \n",
      "__________________________________________________________________________________________________\n",
      "batch_normalization_31 (BatchNo (None, 28, 28, 256)  1024        conv2d_31[0][0]                  \n",
      "__________________________________________________________________________________________________\n",
      "conv2d_33 (Conv2D)              (None, 28, 28, 256)  590080      activation_10[0][0]              \n",
      "__________________________________________________________________________________________________\n",
      "conv2d_32 (Conv2D)              (None, 28, 28, 256)  590080      batch_normalization_31[0][0]     \n",
      "__________________________________________________________________________________________________\n",
      "batch_normalization_33 (BatchNo (None, 28, 28, 256)  1024        conv2d_33[0][0]                  \n",
      "__________________________________________________________________________________________________\n",
      "batch_normalization_32 (BatchNo (None, 28, 28, 256)  1024        conv2d_32[0][0]                  \n",
      "__________________________________________________________________________________________________\n",
      "add_11 (Add)                    (None, 28, 28, 256)  0           batch_normalization_33[0][0]     \n",
      "                                                                 batch_normalization_32[0][0]     \n",
      "__________________________________________________________________________________________________\n",
      "activation_11 (Activation)      (None, 28, 28, 256)  0           add_11[0][0]                     \n",
      "__________________________________________________________________________________________________\n",
      "conv2d_34 (Conv2D)              (None, 28, 28, 256)  590080      activation_11[0][0]              \n",
      "__________________________________________________________________________________________________\n",
      "batch_normalization_34 (BatchNo (None, 28, 28, 256)  1024        conv2d_34[0][0]                  \n",
      "__________________________________________________________________________________________________\n",
      "conv2d_36 (Conv2D)              (None, 28, 28, 256)  590080      activation_11[0][0]              \n",
      "__________________________________________________________________________________________________\n",
      "conv2d_35 (Conv2D)              (None, 28, 28, 256)  590080      batch_normalization_34[0][0]     \n",
      "__________________________________________________________________________________________________\n",
      "batch_normalization_36 (BatchNo (None, 28, 28, 256)  1024        conv2d_36[0][0]                  \n",
      "__________________________________________________________________________________________________\n",
      "batch_normalization_35 (BatchNo (None, 28, 28, 256)  1024        conv2d_35[0][0]                  \n",
      "__________________________________________________________________________________________________\n",
      "add_12 (Add)                    (None, 28, 28, 256)  0           batch_normalization_36[0][0]     \n",
      "                                                                 batch_normalization_35[0][0]     \n",
      "__________________________________________________________________________________________________\n",
      "activation_12 (Activation)      (None, 28, 28, 256)  0           add_12[0][0]                     \n",
      "__________________________________________________________________________________________________\n",
      "max_pooling2d_2 (MaxPooling2D)  (None, 14, 14, 256)  0           activation_12[0][0]              \n",
      "__________________________________________________________________________________________________\n",
      "conv2d_37 (Conv2D)              (None, 14, 14, 512)  1180160     max_pooling2d_2[0][0]            \n",
      "__________________________________________________________________________________________________\n",
      "batch_normalization_37 (BatchNo (None, 14, 14, 512)  2048        conv2d_37[0][0]                  \n",
      "__________________________________________________________________________________________________\n",
      "conv2d_39 (Conv2D)              (None, 14, 14, 512)  1180160     max_pooling2d_2[0][0]            \n",
      "__________________________________________________________________________________________________\n",
      "conv2d_38 (Conv2D)              (None, 14, 14, 512)  2359808     batch_normalization_37[0][0]     \n",
      "__________________________________________________________________________________________________\n",
      "batch_normalization_39 (BatchNo (None, 14, 14, 512)  2048        conv2d_39[0][0]                  \n",
      "__________________________________________________________________________________________________\n",
      "batch_normalization_38 (BatchNo (None, 14, 14, 512)  2048        conv2d_38[0][0]                  \n",
      "__________________________________________________________________________________________________\n",
      "add_13 (Add)                    (None, 14, 14, 512)  0           batch_normalization_39[0][0]     \n",
      "                                                                 batch_normalization_38[0][0]     \n",
      "__________________________________________________________________________________________________\n",
      "activation_13 (Activation)      (None, 14, 14, 512)  0           add_13[0][0]                     \n",
      "__________________________________________________________________________________________________\n",
      "conv2d_40 (Conv2D)              (None, 14, 14, 512)  2359808     activation_13[0][0]              \n",
      "__________________________________________________________________________________________________\n",
      "batch_normalization_40 (BatchNo (None, 14, 14, 512)  2048        conv2d_40[0][0]                  \n",
      "__________________________________________________________________________________________________\n",
      "conv2d_42 (Conv2D)              (None, 14, 14, 512)  2359808     activation_13[0][0]              \n",
      "__________________________________________________________________________________________________\n",
      "conv2d_41 (Conv2D)              (None, 14, 14, 512)  2359808     batch_normalization_40[0][0]     \n",
      "__________________________________________________________________________________________________\n",
      "batch_normalization_42 (BatchNo (None, 14, 14, 512)  2048        conv2d_42[0][0]                  \n",
      "__________________________________________________________________________________________________\n",
      "batch_normalization_41 (BatchNo (None, 14, 14, 512)  2048        conv2d_41[0][0]                  \n",
      "__________________________________________________________________________________________________\n",
      "add_14 (Add)                    (None, 14, 14, 512)  0           batch_normalization_42[0][0]     \n",
      "                                                                 batch_normalization_41[0][0]     \n",
      "__________________________________________________________________________________________________\n",
      "activation_14 (Activation)      (None, 14, 14, 512)  0           add_14[0][0]                     \n",
      "__________________________________________________________________________________________________\n",
      "conv2d_43 (Conv2D)              (None, 14, 14, 512)  2359808     activation_14[0][0]              \n",
      "__________________________________________________________________________________________________\n",
      "batch_normalization_43 (BatchNo (None, 14, 14, 512)  2048        conv2d_43[0][0]                  \n",
      "__________________________________________________________________________________________________\n",
      "conv2d_45 (Conv2D)              (None, 14, 14, 512)  2359808     activation_14[0][0]              \n",
      "__________________________________________________________________________________________________\n",
      "conv2d_44 (Conv2D)              (None, 14, 14, 512)  2359808     batch_normalization_43[0][0]     \n",
      "__________________________________________________________________________________________________\n",
      "batch_normalization_45 (BatchNo (None, 14, 14, 512)  2048        conv2d_45[0][0]                  \n",
      "__________________________________________________________________________________________________\n",
      "batch_normalization_44 (BatchNo (None, 14, 14, 512)  2048        conv2d_44[0][0]                  \n",
      "__________________________________________________________________________________________________\n",
      "add_15 (Add)                    (None, 14, 14, 512)  0           batch_normalization_45[0][0]     \n",
      "                                                                 batch_normalization_44[0][0]     \n",
      "__________________________________________________________________________________________________\n",
      "activation_15 (Activation)      (None, 14, 14, 512)  0           add_15[0][0]                     \n",
      "__________________________________________________________________________________________________\n",
      "global_average_pooling2d (Globa (None, 512)          0           activation_15[0][0]              \n",
      "__________________________________________________________________________________________________\n",
      "dense (Dense)                   (None, 7)            3591        global_average_pooling2d[0][0]   \n",
      "==================================================================================================\n",
      "Total params: 30,805,895\n",
      "Trainable params: 30,783,495\n",
      "Non-trainable params: 22,400\n",
      "__________________________________________________________________________________________________\n"
     ]
    }
   ],
   "source": [
    "model.summary()"
   ]
  },
  {
   "cell_type": "code",
   "execution_count": null,
   "metadata": {
    "id": "WR0fUpy18vAZ"
   },
   "outputs": [],
   "source": [
    "opt1=tf.keras.optimizers.Adam(learning_rate=0.01,epsilon=0.1)\n",
    "model.compile(optimizer=opt1,\n",
    "             loss='categorical_crossentropy',\n",
    "             metrics=['accuracy'])"
   ]
  },
  {
   "cell_type": "code",
   "execution_count": null,
   "metadata": {
    "id": "LAf5ha295reS"
   },
   "outputs": [],
   "source": [
    "class_weights = {   \n",
    "                    0: 1.0,  # akiec\n",
    "                    1: 1.0,  # bcc\n",
    "                    2: 1.0,  # bkl\n",
    "                    3: 1.0,  # df\n",
    "                    4: 5.0,  # mel\n",
    "                    5: 1.0,  # nv\n",
    "                    6: 1.0,  # vasc\n",
    "                }\n",
    "\n",
    "\n",
    "checkpoint=  ModelCheckpoint(filepath = 'ResNet34.hdf5',monitor='val_accuracy',save_best_only=True,save_weights_only=True)\n",
    "\n",
    "\n"
   ]
  },
  {
   "cell_type": "code",
   "execution_count": null,
   "metadata": {
    "colab": {
     "base_uri": "https://localhost:8080/"
    },
    "id": "NUzTmiZ-8hL3",
    "outputId": "5b7ac636-d3b1-4b6c-a642-9ecdf94158e6"
   },
   "outputs": [
    {
     "name": "stdout",
     "output_type": "stream",
     "text": [
      "Epoch 1/300\n",
      "919/919 - 64s - loss: 2.6473 - accuracy: 0.2170 - val_loss: 1.4750 - val_accuracy: 0.5676\n",
      "Epoch 2/300\n",
      "919/919 - 55s - loss: 2.2916 - accuracy: 0.2835 - val_loss: 2.0243 - val_accuracy: 0.0918\n",
      "Epoch 3/300\n",
      "919/919 - 55s - loss: 2.0900 - accuracy: 0.3415 - val_loss: 1.1970 - val_accuracy: 0.6014\n",
      "Epoch 4/300\n",
      "919/919 - 55s - loss: 2.0123 - accuracy: 0.3785 - val_loss: 1.1959 - val_accuracy: 0.5507\n",
      "Epoch 5/300\n",
      "919/919 - 55s - loss: 1.9144 - accuracy: 0.3979 - val_loss: 1.2886 - val_accuracy: 0.5266\n",
      "Epoch 6/300\n",
      "919/919 - 55s - loss: 1.9097 - accuracy: 0.3999 - val_loss: 1.2674 - val_accuracy: 0.4674\n",
      "Epoch 7/300\n",
      "919/919 - 55s - loss: 1.8485 - accuracy: 0.4144 - val_loss: 1.0479 - val_accuracy: 0.6353\n",
      "Epoch 8/300\n",
      "919/919 - 55s - loss: 1.8112 - accuracy: 0.4310 - val_loss: 1.0838 - val_accuracy: 0.6353\n",
      "Epoch 9/300\n",
      "919/919 - 55s - loss: 1.7693 - accuracy: 0.4339 - val_loss: 1.2846 - val_accuracy: 0.5483\n",
      "Epoch 10/300\n",
      "919/919 - 55s - loss: 1.7714 - accuracy: 0.4430 - val_loss: 0.8658 - val_accuracy: 0.6691\n",
      "Epoch 11/300\n",
      "919/919 - 55s - loss: 1.7010 - accuracy: 0.4640 - val_loss: 1.2331 - val_accuracy: 0.5350\n",
      "Epoch 12/300\n",
      "919/919 - 55s - loss: 1.6755 - accuracy: 0.4717 - val_loss: 0.7930 - val_accuracy: 0.7138\n",
      "Epoch 13/300\n",
      "919/919 - 55s - loss: 1.6787 - accuracy: 0.4702 - val_loss: 0.9406 - val_accuracy: 0.6715\n",
      "Epoch 14/300\n",
      "919/919 - 55s - loss: 1.6464 - accuracy: 0.4819 - val_loss: 0.9220 - val_accuracy: 0.6920\n",
      "Epoch 15/300\n",
      "919/919 - 55s - loss: 1.6177 - accuracy: 0.4882 - val_loss: 0.7160 - val_accuracy: 0.7572\n",
      "Epoch 16/300\n",
      "919/919 - 55s - loss: 1.5827 - accuracy: 0.4942 - val_loss: 0.7877 - val_accuracy: 0.7355\n",
      "Epoch 17/300\n",
      "919/919 - 55s - loss: 1.5863 - accuracy: 0.4935 - val_loss: 1.2588 - val_accuracy: 0.5290\n",
      "Epoch 18/300\n",
      "919/919 - 55s - loss: 1.5790 - accuracy: 0.4971 - val_loss: 0.7673 - val_accuracy: 0.7428\n",
      "Epoch 19/300\n",
      "919/919 - 55s - loss: 1.5165 - accuracy: 0.5234 - val_loss: 0.7069 - val_accuracy: 0.7500\n",
      "Epoch 20/300\n",
      "919/919 - 55s - loss: 1.5155 - accuracy: 0.5245 - val_loss: 1.0579 - val_accuracy: 0.6618\n",
      "Epoch 21/300\n",
      "919/919 - 55s - loss: 1.4820 - accuracy: 0.5331 - val_loss: 0.7308 - val_accuracy: 0.7657\n",
      "Epoch 22/300\n",
      "919/919 - 55s - loss: 1.4775 - accuracy: 0.5383 - val_loss: 0.7409 - val_accuracy: 0.7415\n",
      "Epoch 23/300\n",
      "919/919 - 55s - loss: 1.4324 - accuracy: 0.5420 - val_loss: 1.0709 - val_accuracy: 0.6256\n",
      "Epoch 24/300\n",
      "919/919 - 55s - loss: 1.4367 - accuracy: 0.5477 - val_loss: 0.6200 - val_accuracy: 0.7814\n",
      "Epoch 25/300\n",
      "919/919 - 55s - loss: 1.4078 - accuracy: 0.5534 - val_loss: 0.7192 - val_accuracy: 0.7415\n",
      "Epoch 26/300\n",
      "919/919 - 56s - loss: 1.3918 - accuracy: 0.5563 - val_loss: 0.5620 - val_accuracy: 0.7995\n",
      "Epoch 27/300\n",
      "919/919 - 55s - loss: 1.3784 - accuracy: 0.5655 - val_loss: 0.6872 - val_accuracy: 0.7729\n",
      "Epoch 28/300\n",
      "919/919 - 55s - loss: 1.3534 - accuracy: 0.5696 - val_loss: 0.6598 - val_accuracy: 0.7838\n",
      "Epoch 29/300\n",
      "919/919 - 55s - loss: 1.3249 - accuracy: 0.5831 - val_loss: 0.6832 - val_accuracy: 0.7705\n",
      "Epoch 30/300\n",
      "919/919 - 55s - loss: 1.3404 - accuracy: 0.5825 - val_loss: 0.6458 - val_accuracy: 0.7850\n",
      "Epoch 31/300\n",
      "919/919 - 55s - loss: 1.3025 - accuracy: 0.5963 - val_loss: 0.5991 - val_accuracy: 0.7971\n",
      "Epoch 32/300\n",
      "919/919 - 55s - loss: 1.2921 - accuracy: 0.5934 - val_loss: 0.8312 - val_accuracy: 0.7126\n",
      "Epoch 33/300\n",
      "919/919 - 55s - loss: 1.2735 - accuracy: 0.5986 - val_loss: 0.5818 - val_accuracy: 0.7947\n",
      "Epoch 34/300\n",
      "919/919 - 55s - loss: 1.2538 - accuracy: 0.6032 - val_loss: 0.5739 - val_accuracy: 0.7838\n",
      "Epoch 35/300\n",
      "919/919 - 55s - loss: 1.2438 - accuracy: 0.6084 - val_loss: 0.5074 - val_accuracy: 0.8104\n",
      "Epoch 36/300\n",
      "919/919 - 55s - loss: 1.2540 - accuracy: 0.6070 - val_loss: 0.5714 - val_accuracy: 0.8056\n",
      "Epoch 37/300\n",
      "919/919 - 55s - loss: 1.1885 - accuracy: 0.6291 - val_loss: 0.5725 - val_accuracy: 0.7947\n",
      "Epoch 38/300\n",
      "919/919 - 55s - loss: 1.1789 - accuracy: 0.6303 - val_loss: 0.5174 - val_accuracy: 0.8164\n",
      "Epoch 39/300\n",
      "919/919 - 55s - loss: 1.1699 - accuracy: 0.6360 - val_loss: 0.8681 - val_accuracy: 0.6691\n",
      "Epoch 40/300\n",
      "919/919 - 55s - loss: 1.1647 - accuracy: 0.6384 - val_loss: 0.7867 - val_accuracy: 0.7307\n",
      "Epoch 41/300\n",
      "919/919 - 55s - loss: 1.1587 - accuracy: 0.6345 - val_loss: 0.6039 - val_accuracy: 0.7826\n",
      "Epoch 42/300\n",
      "919/919 - 55s - loss: 1.1386 - accuracy: 0.6460 - val_loss: 0.6644 - val_accuracy: 0.7681\n",
      "Epoch 43/300\n",
      "919/919 - 55s - loss: 1.1242 - accuracy: 0.6476 - val_loss: 0.5913 - val_accuracy: 0.7983\n",
      "Epoch 44/300\n",
      "919/919 - 56s - loss: 1.1096 - accuracy: 0.6541 - val_loss: 0.5007 - val_accuracy: 0.8333\n",
      "Epoch 45/300\n",
      "919/919 - 55s - loss: 1.0908 - accuracy: 0.6608 - val_loss: 0.5800 - val_accuracy: 0.7874\n",
      "Epoch 46/300\n",
      "919/919 - 55s - loss: 1.0999 - accuracy: 0.6593 - val_loss: 0.5316 - val_accuracy: 0.8128\n",
      "Epoch 47/300\n",
      "919/919 - 55s - loss: 1.0722 - accuracy: 0.6607 - val_loss: 0.5867 - val_accuracy: 0.7850\n",
      "Epoch 48/300\n",
      "919/919 - 55s - loss: 1.0791 - accuracy: 0.6678 - val_loss: 0.5275 - val_accuracy: 0.8116\n",
      "Epoch 49/300\n",
      "919/919 - 55s - loss: 1.0366 - accuracy: 0.6814 - val_loss: 0.5547 - val_accuracy: 0.7983\n",
      "Epoch 50/300\n",
      "919/919 - 55s - loss: 1.0646 - accuracy: 0.6697 - val_loss: 0.5026 - val_accuracy: 0.8104\n",
      "Epoch 51/300\n",
      "919/919 - 55s - loss: 1.0405 - accuracy: 0.6758 - val_loss: 0.5594 - val_accuracy: 0.8007\n",
      "Epoch 52/300\n",
      "919/919 - 56s - loss: 1.0350 - accuracy: 0.6776 - val_loss: 0.5161 - val_accuracy: 0.8321\n",
      "Epoch 53/300\n",
      "919/919 - 56s - loss: 1.0209 - accuracy: 0.6807 - val_loss: 0.5964 - val_accuracy: 0.7874\n",
      "Epoch 54/300\n",
      "919/919 - 56s - loss: 0.9773 - accuracy: 0.6984 - val_loss: 0.6126 - val_accuracy: 0.8080\n",
      "Epoch 55/300\n",
      "919/919 - 55s - loss: 0.9831 - accuracy: 0.6937 - val_loss: 0.4820 - val_accuracy: 0.8261\n",
      "Epoch 56/300\n",
      "919/919 - 55s - loss: 0.9731 - accuracy: 0.6933 - val_loss: 0.5684 - val_accuracy: 0.7862\n",
      "Epoch 57/300\n",
      "919/919 - 55s - loss: 0.9901 - accuracy: 0.6936 - val_loss: 0.5971 - val_accuracy: 0.7826\n",
      "Epoch 58/300\n",
      "919/919 - 55s - loss: 0.9694 - accuracy: 0.6970 - val_loss: 0.6264 - val_accuracy: 0.7705\n",
      "Epoch 59/300\n",
      "919/919 - 56s - loss: 0.9427 - accuracy: 0.7071 - val_loss: 0.5357 - val_accuracy: 0.8357\n",
      "Epoch 60/300\n",
      "919/919 - 56s - loss: 0.9408 - accuracy: 0.7118 - val_loss: 0.4690 - val_accuracy: 0.8297\n",
      "Epoch 61/300\n",
      "919/919 - 56s - loss: 0.9354 - accuracy: 0.7061 - val_loss: 0.4984 - val_accuracy: 0.8285\n",
      "Epoch 62/300\n",
      "919/919 - 55s - loss: 0.9331 - accuracy: 0.7095 - val_loss: 0.5350 - val_accuracy: 0.7959\n",
      "Epoch 63/300\n",
      "919/919 - 56s - loss: 0.9149 - accuracy: 0.7135 - val_loss: 0.4859 - val_accuracy: 0.8551\n",
      "Epoch 64/300\n",
      "919/919 - 56s - loss: 0.8857 - accuracy: 0.7248 - val_loss: 0.5285 - val_accuracy: 0.8080\n",
      "Epoch 65/300\n",
      "919/919 - 56s - loss: 0.8978 - accuracy: 0.7261 - val_loss: 0.4955 - val_accuracy: 0.8261\n",
      "Epoch 66/300\n",
      "919/919 - 56s - loss: 0.8577 - accuracy: 0.7343 - val_loss: 0.4577 - val_accuracy: 0.8370\n",
      "Epoch 67/300\n",
      "919/919 - 56s - loss: 0.8644 - accuracy: 0.7298 - val_loss: 0.5309 - val_accuracy: 0.8357\n",
      "Epoch 68/300\n",
      "919/919 - 56s - loss: 0.8475 - accuracy: 0.7403 - val_loss: 0.4795 - val_accuracy: 0.8406\n",
      "Epoch 69/300\n",
      "919/919 - 56s - loss: 0.8499 - accuracy: 0.7404 - val_loss: 0.5595 - val_accuracy: 0.7947\n",
      "Epoch 70/300\n",
      "919/919 - 56s - loss: 0.8420 - accuracy: 0.7398 - val_loss: 0.5547 - val_accuracy: 0.8007\n",
      "Epoch 71/300\n",
      "919/919 - 56s - loss: 0.8420 - accuracy: 0.7454 - val_loss: 0.5880 - val_accuracy: 0.8056\n",
      "Epoch 72/300\n",
      "919/919 - 56s - loss: 0.8263 - accuracy: 0.7430 - val_loss: 0.4393 - val_accuracy: 0.8502\n",
      "Epoch 73/300\n",
      "919/919 - 56s - loss: 0.7783 - accuracy: 0.7556 - val_loss: 0.4477 - val_accuracy: 0.8382\n",
      "Epoch 74/300\n",
      "919/919 - 56s - loss: 0.7900 - accuracy: 0.7545 - val_loss: 0.5930 - val_accuracy: 0.7947\n",
      "Epoch 75/300\n",
      "919/919 - 56s - loss: 0.7810 - accuracy: 0.7631 - val_loss: 0.6313 - val_accuracy: 0.7681\n",
      "Epoch 76/300\n",
      "919/919 - 56s - loss: 0.7664 - accuracy: 0.7620 - val_loss: 0.4829 - val_accuracy: 0.8273\n",
      "Epoch 77/300\n",
      "919/919 - 56s - loss: 0.7449 - accuracy: 0.7725 - val_loss: 0.4607 - val_accuracy: 0.8418\n",
      "Epoch 78/300\n",
      "919/919 - 56s - loss: 0.7854 - accuracy: 0.7594 - val_loss: 0.5089 - val_accuracy: 0.8309\n",
      "Epoch 79/300\n",
      "919/919 - 56s - loss: 0.7271 - accuracy: 0.7793 - val_loss: 0.5303 - val_accuracy: 0.8225\n",
      "Epoch 80/300\n",
      "919/919 - 56s - loss: 0.7532 - accuracy: 0.7665 - val_loss: 0.5077 - val_accuracy: 0.8261\n",
      "Epoch 81/300\n",
      "919/919 - 55s - loss: 0.6908 - accuracy: 0.7909 - val_loss: 0.5660 - val_accuracy: 0.8225\n",
      "Epoch 82/300\n",
      "919/919 - 55s - loss: 0.6997 - accuracy: 0.7868 - val_loss: 0.4619 - val_accuracy: 0.8466\n",
      "Epoch 83/300\n",
      "919/919 - 55s - loss: 0.7103 - accuracy: 0.7870 - val_loss: 0.4878 - val_accuracy: 0.8068\n",
      "Epoch 84/300\n",
      "919/919 - 55s - loss: 0.6813 - accuracy: 0.7925 - val_loss: 0.5872 - val_accuracy: 0.7995\n",
      "Epoch 85/300\n",
      "919/919 - 55s - loss: 0.6711 - accuracy: 0.7938 - val_loss: 0.4999 - val_accuracy: 0.8261\n",
      "Epoch 86/300\n",
      "919/919 - 55s - loss: 0.6885 - accuracy: 0.7906 - val_loss: 0.5370 - val_accuracy: 0.8297\n",
      "Epoch 87/300\n",
      "919/919 - 56s - loss: 0.6698 - accuracy: 0.7961 - val_loss: 0.4234 - val_accuracy: 0.8539\n",
      "Epoch 88/300\n",
      "919/919 - 55s - loss: 0.6490 - accuracy: 0.8045 - val_loss: 0.4360 - val_accuracy: 0.8466\n",
      "Epoch 89/300\n",
      "919/919 - 55s - loss: 0.6495 - accuracy: 0.8012 - val_loss: 0.4461 - val_accuracy: 0.8454\n",
      "Epoch 90/300\n",
      "919/919 - 55s - loss: 0.6383 - accuracy: 0.8045 - val_loss: 0.5662 - val_accuracy: 0.8092\n",
      "Epoch 91/300\n",
      "919/919 - 55s - loss: 0.6443 - accuracy: 0.8022 - val_loss: 0.4810 - val_accuracy: 0.8454\n",
      "Epoch 92/300\n",
      "919/919 - 55s - loss: 0.5894 - accuracy: 0.8169 - val_loss: 0.5122 - val_accuracy: 0.8430\n",
      "Epoch 93/300\n",
      "919/919 - 55s - loss: 0.6073 - accuracy: 0.8133 - val_loss: 0.5535 - val_accuracy: 0.8285\n",
      "Epoch 94/300\n",
      "919/919 - 55s - loss: 0.5723 - accuracy: 0.8270 - val_loss: 0.4907 - val_accuracy: 0.8442\n",
      "Epoch 95/300\n",
      "919/919 - 55s - loss: 0.6186 - accuracy: 0.8122 - val_loss: 0.4824 - val_accuracy: 0.8357\n",
      "Epoch 96/300\n",
      "919/919 - 55s - loss: 0.5852 - accuracy: 0.8257 - val_loss: 0.6510 - val_accuracy: 0.8116\n",
      "Epoch 97/300\n",
      "919/919 - 55s - loss: 0.5654 - accuracy: 0.8256 - val_loss: 0.5050 - val_accuracy: 0.8490\n",
      "Epoch 98/300\n",
      "919/919 - 55s - loss: 0.5701 - accuracy: 0.8299 - val_loss: 0.5060 - val_accuracy: 0.8309\n",
      "Epoch 99/300\n",
      "919/919 - 56s - loss: 0.5511 - accuracy: 0.8300 - val_loss: 0.5123 - val_accuracy: 0.8575\n",
      "Epoch 100/300\n",
      "919/919 - 55s - loss: 0.5400 - accuracy: 0.8351 - val_loss: 0.5829 - val_accuracy: 0.8176\n",
      "Epoch 101/300\n",
      "919/919 - 55s - loss: 0.5538 - accuracy: 0.8313 - val_loss: 0.5055 - val_accuracy: 0.8357\n",
      "Epoch 102/300\n",
      "919/919 - 55s - loss: 0.5181 - accuracy: 0.8400 - val_loss: 0.5217 - val_accuracy: 0.8527\n",
      "Epoch 103/300\n",
      "919/919 - 55s - loss: 0.4952 - accuracy: 0.8499 - val_loss: 0.5097 - val_accuracy: 0.8478\n",
      "Epoch 104/300\n",
      "919/919 - 55s - loss: 0.5875 - accuracy: 0.8269 - val_loss: 0.5442 - val_accuracy: 0.8128\n",
      "Epoch 105/300\n",
      "919/919 - 55s - loss: 0.5275 - accuracy: 0.8424 - val_loss: 0.4821 - val_accuracy: 0.8551\n",
      "Epoch 106/300\n",
      "919/919 - 55s - loss: 0.5127 - accuracy: 0.8487 - val_loss: 0.5021 - val_accuracy: 0.8285\n",
      "Epoch 107/300\n",
      "919/919 - 56s - loss: 0.4950 - accuracy: 0.8497 - val_loss: 0.4760 - val_accuracy: 0.8551\n",
      "Epoch 108/300\n",
      "919/919 - 55s - loss: 0.5324 - accuracy: 0.8415 - val_loss: 0.4900 - val_accuracy: 0.8394\n",
      "Epoch 109/300\n",
      "919/919 - 55s - loss: 0.4787 - accuracy: 0.8530 - val_loss: 0.4523 - val_accuracy: 0.8575\n",
      "Epoch 110/300\n",
      "919/919 - 56s - loss: 0.4903 - accuracy: 0.8499 - val_loss: 0.4870 - val_accuracy: 0.8527\n",
      "Epoch 111/300\n",
      "919/919 - 55s - loss: 0.4490 - accuracy: 0.8632 - val_loss: 0.5075 - val_accuracy: 0.8466\n",
      "Epoch 112/300\n",
      "919/919 - 55s - loss: 0.4645 - accuracy: 0.8617 - val_loss: 0.5211 - val_accuracy: 0.8285\n",
      "Epoch 113/300\n",
      "919/919 - 55s - loss: 0.4639 - accuracy: 0.8626 - val_loss: 0.4821 - val_accuracy: 0.8285\n",
      "Epoch 114/300\n",
      "919/919 - 55s - loss: 0.4778 - accuracy: 0.8537 - val_loss: 0.5360 - val_accuracy: 0.8297\n",
      "Epoch 115/300\n",
      "919/919 - 56s - loss: 0.4586 - accuracy: 0.8614 - val_loss: 0.5231 - val_accuracy: 0.8454\n",
      "Epoch 116/300\n",
      "919/919 - 55s - loss: 0.4252 - accuracy: 0.8692 - val_loss: 0.5399 - val_accuracy: 0.8309\n",
      "Epoch 117/300\n",
      "919/919 - 55s - loss: 0.4002 - accuracy: 0.8784 - val_loss: 0.6668 - val_accuracy: 0.8068\n",
      "Epoch 118/300\n",
      "919/919 - 55s - loss: 0.4078 - accuracy: 0.8777 - val_loss: 0.5820 - val_accuracy: 0.8394\n",
      "Epoch 119/300\n",
      "919/919 - 55s - loss: 0.4342 - accuracy: 0.8704 - val_loss: 0.5060 - val_accuracy: 0.8490\n",
      "Epoch 120/300\n",
      "919/919 - 55s - loss: 0.4138 - accuracy: 0.8755 - val_loss: 0.5194 - val_accuracy: 0.8345\n",
      "Epoch 121/300\n",
      "919/919 - 55s - loss: 0.4099 - accuracy: 0.8793 - val_loss: 0.5009 - val_accuracy: 0.8382\n",
      "Epoch 122/300\n",
      "919/919 - 55s - loss: 0.4212 - accuracy: 0.8744 - val_loss: 0.5361 - val_accuracy: 0.8309\n",
      "Epoch 123/300\n",
      "919/919 - 55s - loss: 0.4031 - accuracy: 0.8819 - val_loss: 0.5160 - val_accuracy: 0.8442\n",
      "Epoch 124/300\n",
      "919/919 - 55s - loss: 0.4089 - accuracy: 0.8744 - val_loss: 0.6857 - val_accuracy: 0.8237\n",
      "Epoch 125/300\n",
      "919/919 - 55s - loss: 0.4061 - accuracy: 0.8790 - val_loss: 0.5275 - val_accuracy: 0.8527\n",
      "Epoch 126/300\n",
      "919/919 - 55s - loss: 0.3923 - accuracy: 0.8813 - val_loss: 0.5625 - val_accuracy: 0.8273\n",
      "Epoch 127/300\n",
      "919/919 - 55s - loss: 0.3427 - accuracy: 0.8982 - val_loss: 0.4871 - val_accuracy: 0.8514\n",
      "Epoch 128/300\n",
      "919/919 - 55s - loss: 0.3651 - accuracy: 0.8891 - val_loss: 0.5763 - val_accuracy: 0.8442\n",
      "Epoch 129/300\n",
      "919/919 - 55s - loss: 0.3616 - accuracy: 0.8881 - val_loss: 0.5453 - val_accuracy: 0.8249\n",
      "Epoch 130/300\n",
      "919/919 - 55s - loss: 0.3587 - accuracy: 0.8963 - val_loss: 0.4909 - val_accuracy: 0.8406\n",
      "Epoch 131/300\n",
      "919/919 - 55s - loss: 0.3681 - accuracy: 0.8886 - val_loss: 0.5999 - val_accuracy: 0.8357\n",
      "Epoch 132/300\n",
      "919/919 - 55s - loss: 0.3383 - accuracy: 0.8982 - val_loss: 0.4735 - val_accuracy: 0.8623\n",
      "Epoch 133/300\n",
      "919/919 - 55s - loss: 0.3165 - accuracy: 0.9082 - val_loss: 0.5629 - val_accuracy: 0.8599\n",
      "Epoch 134/300\n",
      "919/919 - 55s - loss: 0.3354 - accuracy: 0.9009 - val_loss: 0.4787 - val_accuracy: 0.8575\n",
      "Epoch 135/300\n",
      "919/919 - 55s - loss: 0.3145 - accuracy: 0.9085 - val_loss: 0.4912 - val_accuracy: 0.8527\n",
      "Epoch 136/300\n",
      "919/919 - 55s - loss: 0.3073 - accuracy: 0.9090 - val_loss: 0.5547 - val_accuracy: 0.8333\n",
      "Epoch 137/300\n",
      "919/919 - 55s - loss: 0.2884 - accuracy: 0.9129 - val_loss: 0.5555 - val_accuracy: 0.8418\n",
      "Epoch 138/300\n",
      "919/919 - 55s - loss: 0.2949 - accuracy: 0.9132 - val_loss: 0.5416 - val_accuracy: 0.8466\n",
      "Epoch 139/300\n",
      "919/919 - 55s - loss: 0.2792 - accuracy: 0.9168 - val_loss: 0.4925 - val_accuracy: 0.8611\n",
      "Epoch 140/300\n",
      "919/919 - 55s - loss: 0.2815 - accuracy: 0.9178 - val_loss: 0.5593 - val_accuracy: 0.8333\n",
      "Epoch 141/300\n",
      "919/919 - 55s - loss: 0.3248 - accuracy: 0.9058 - val_loss: 0.5091 - val_accuracy: 0.8599\n",
      "Epoch 142/300\n",
      "919/919 - 55s - loss: 0.2867 - accuracy: 0.9169 - val_loss: 0.5443 - val_accuracy: 0.8406\n",
      "Epoch 143/300\n",
      "919/919 - 55s - loss: 0.2709 - accuracy: 0.9236 - val_loss: 0.5641 - val_accuracy: 0.8370\n",
      "Epoch 144/300\n",
      "919/919 - 55s - loss: 0.2918 - accuracy: 0.9158 - val_loss: 0.5498 - val_accuracy: 0.8357\n",
      "Epoch 145/300\n",
      "919/919 - 55s - loss: 0.2892 - accuracy: 0.9145 - val_loss: 0.5775 - val_accuracy: 0.8442\n",
      "Epoch 146/300\n",
      "919/919 - 55s - loss: 0.2654 - accuracy: 0.9199 - val_loss: 0.5350 - val_accuracy: 0.8370\n",
      "Epoch 147/300\n",
      "919/919 - 55s - loss: 0.2808 - accuracy: 0.9161 - val_loss: 0.6046 - val_accuracy: 0.8551\n",
      "Epoch 148/300\n",
      "919/919 - 55s - loss: 0.2860 - accuracy: 0.9201 - val_loss: 0.5529 - val_accuracy: 0.8382\n",
      "Epoch 149/300\n",
      "919/919 - 55s - loss: 0.2517 - accuracy: 0.9271 - val_loss: 0.5870 - val_accuracy: 0.8587\n",
      "Epoch 150/300\n",
      "919/919 - 55s - loss: 0.2599 - accuracy: 0.9248 - val_loss: 0.5375 - val_accuracy: 0.8514\n",
      "Epoch 151/300\n",
      "919/919 - 55s - loss: 0.2279 - accuracy: 0.9356 - val_loss: 0.5088 - val_accuracy: 0.8575\n",
      "Epoch 152/300\n",
      "919/919 - 55s - loss: 0.2242 - accuracy: 0.9384 - val_loss: 0.5980 - val_accuracy: 0.8273\n"
     ]
    }
   ],
   "source": [
    "Earlystop = EarlyStopping(monitor='val_loss', mode='min',patience=65, min_delta=0.001)\n",
    "history = model.fit(train_batches,\n",
    "                    steps_per_epoch=(len(train_df)/10),\n",
    "                    epochs=300,\n",
    "                    verbose=2,\n",
    "                    validation_data=test_batches,validation_steps=len(test_df)/batch_size,callbacks=[checkpoint,Earlystop],class_weight=class_weights)"
   ]
  },
  {
   "cell_type": "code",
   "execution_count": null,
   "metadata": {
    "id": "zm_AewFBXTj8"
   },
   "outputs": [],
   "source": [
    "from tensorflow.keras import models\n",
    "model.load_weights(\"ResNet34.hdf5\")"
   ]
  },
  {
   "cell_type": "code",
   "execution_count": null,
   "metadata": {},
   "outputs": [],
   "source": [
    "predictions = model.predict(test_batches, steps=len(test_df)/batch_size, verbose=0)"
   ]
  },
  {
   "cell_type": "code",
   "execution_count": null,
   "metadata": {
    "colab": {
     "base_uri": "https://localhost:8080/"
    },
    "id": "KYxCDDjusR-S",
    "outputId": "d534fe0f-c7cd-49a5-84c3-3a386a7e05b0"
   },
   "outputs": [
    {
     "name": "stdout",
     "output_type": "stream",
     "text": [
      "\n",
      "Classification Report:\n",
      "              precision    recall  f1-score   support\n",
      "\n",
      "       akiec       0.67      0.43      0.53        23\n",
      "         bcc       0.66      0.81      0.72        26\n",
      "         bkl       0.51      0.42      0.46        66\n",
      "          df       0.40      0.33      0.36         6\n",
      "         mel       0.42      0.47      0.44        34\n",
      "          nv       0.93      0.95      0.94       663\n",
      "        vasc       0.91      1.00      0.95        10\n",
      "\n",
      "    accuracy                           0.86       828\n",
      "   macro avg       0.64      0.63      0.63       828\n",
      "weighted avg       0.86      0.86      0.86       828\n",
      "\n"
     ]
    }
   ],
   "source": [
    "#geting predictions on test dataset\n",
    "y_pred = np.argmax(predictions, axis=1)\n",
    "targetnames = ['akiec', 'bcc', 'bkl', 'df', 'mel', 'nv', 'vasc']\n",
    "#getting the true labels per image \n",
    "y_true = test_batches.classes\n",
    "#getting the predicted labels per image \n",
    "y_prob=predictions\n",
    "from tensorflow.keras.utils import to_categorical\n",
    "y_test = to_categorical(y_true)\n",
    "\n",
    "# Creating classification report \n",
    "report = classification_report(y_true, y_pred, target_names=targetnames)\n",
    "\n",
    "print(\"\\nClassification Report:\")\n",
    "print(report)"
   ]
  },
  {
   "cell_type": "code",
   "execution_count": null,
   "metadata": {
    "colab": {
     "base_uri": "https://localhost:8080/"
    },
    "id": "yy59Zs1jqylz",
    "outputId": "ac359cd9-d80f-40e2-db99-5441ac9e2732"
   },
   "outputs": [
    {
     "name": "stdout",
     "output_type": "stream",
     "text": [
      "Precision: 0.8579773073301391\n",
      "Recall: 0.8623188405797102\n",
      "Accuracy: 0.8623188405797102\n",
      "weighted Roc score: 0.942343551506816\n"
     ]
    }
   ],
   "source": [
    "print(\"Precision: \"+ str(precision_score(y_true, y_pred, average='weighted')))\n",
    "print(\"Recall: \"+ str(recall_score(y_true, y_pred, average='weighted')))\n",
    "print(\"Accuracy: \" + str(accuracy_score(y_true, y_pred)))\n",
    "print(\"weighted Roc score: \" + str(roc_auc_score(y_test,y_prob,multi_class='ovr',average='weighted')))"
   ]
  },
  {
   "cell_type": "code",
   "execution_count": null,
   "metadata": {
    "colab": {
     "base_uri": "https://localhost:8080/"
    },
    "id": "vFRWOB82sDKi",
    "outputId": "812872f0-b4f4-447d-ac1a-f51946818e55"
   },
   "outputs": [
    {
     "name": "stdout",
     "output_type": "stream",
     "text": [
      "Precision: 0.6421695472447352\n",
      "Recall: 0.6309057523891284\n",
      "Accuracy: 0.8623188405797102\n",
      "Macro Roc score: 0.9493826564692036\n"
     ]
    }
   ],
   "source": [
    "\n",
    "print(\"Precision: \"+ str(precision_score(y_true, y_pred, average='macro')))\n",
    "print(\"Recall: \"+ str(recall_score(y_true, y_pred, average='macro')))\n",
    "print(\"Accuracy: \" + str(accuracy_score(y_true, y_pred)))\n",
    "print(\"Macro Roc score: \" + str(roc_auc_score(y_test,y_prob,multi_class='ovr',average='macro')))"
   ]
  },
  {
   "cell_type": "code",
   "execution_count": null,
   "metadata": {
    "colab": {
     "base_uri": "https://localhost:8080/"
    },
    "id": "nDNAPv9OsRVg",
    "outputId": "a1fc778d-af63-435c-f4cd-8eb83468c703"
   },
   "outputs": [
    {
     "name": "stdout",
     "output_type": "stream",
     "text": [
      "Precision: 0.8623188405797102\n",
      "Recall: 0.8623188405797102\n",
      "Accuracy: 0.8623188405797102\n",
      "Micro Roc score: 0.9859399674827105\n"
     ]
    }
   ],
   "source": [
    "print(\"Precision: \"+ str(precision_score(y_true, y_pred, average='micro')))\n",
    "print(\"Recall: \"+ str(recall_score(y_true, y_pred, average='micro')))\n",
    "print(\"Accuracy: \" + str(accuracy_score(y_true, y_pred)))\n",
    "tpr={}\n",
    "fpr={}\n",
    "roc_auc={}\n",
    "fpr[\"micro\"], tpr[\"micro\"], _ = roc_curve(y_test.ravel(), y_prob.ravel())\n",
    "roc_auc[\"micro\"] = auc(fpr[\"micro\"], tpr[\"micro\"])\n",
    "print(\"Micro Roc score: \" + str(roc_auc[\"micro\"]))"
   ]
  },
  {
   "cell_type": "code",
   "execution_count": null,
   "metadata": {
    "colab": {
     "base_uri": "https://localhost:8080/"
    },
    "id": "U03sRDM2sudx",
    "outputId": "ef8a264c-1df9-452a-bd9c-b47a0b905127"
   },
   "outputs": [
    {
     "name": "stdout",
     "output_type": "stream",
     "text": [
      "The ROC AUC score of akiec is: 0.9693221712125304\n",
      "The ROC AUC score of bcc is: 0.9913677345098791\n",
      "The ROC AUC score of bkl is: 0.9049152946790742\n",
      "The ROC AUC score of df is: 0.9253852392538524\n",
      "The ROC AUC score of mel is: 0.9106904726626167\n",
      "The ROC AUC score of nv is: 0.9441199323552265\n",
      "The ROC AUC score of vasc is: 0.999877750611247\n"
     ]
    }
   ],
   "source": [
    "fpr = {}\n",
    "tpr = {}\n",
    "roc_auc = {}\n",
    "for i in range(7):\n",
    "    r = roc_auc_score(y_test[:, i], y_prob[:, i])\n",
    "    print(\"The ROC AUC score of \"+targetnames[i]+\" is: \"+str(r))"
   ]
  },
  {
   "cell_type": "code",
   "execution_count": null,
   "metadata": {
    "id": "A5nG-b11wkep"
   },
   "outputs": [],
   "source": [
    "# Compute ROC curve and ROC area for each class\n",
    "fpr = {}\n",
    "tpr = {}\n",
    "roc_auc = dict()\n",
    "for i in range(7):\n",
    "    fpr[i], tpr[i], _ = roc_curve(y_test[:, i], y_prob[:, i], drop_intermediate=False)\n",
    "    roc_auc[i] = auc(fpr[i], tpr[i])"
   ]
  },
  {
   "cell_type": "code",
   "execution_count": null,
   "metadata": {
    "colab": {
     "base_uri": "https://localhost:8080/",
     "height": 295
    },
    "id": "9wz2--WDwHQ4",
    "outputId": "adca81c1-4fa4-4181-a624-78e6afb22384"
   },
   "outputs": [
    {
     "data": {
      "image/png": "[encoded data removed]",
      "text/plain": [
       "<Figure size 432x288 with 1 Axes>"
      ]
     },
     "metadata": {
      "needs_background": "light",
      "tags": []
     },
     "output_type": "display_data"
    }
   ],
   "source": [
    "\n",
    "plt.plot(fpr[0], tpr[0],'v-',label='akiec: ROC curve of (area = %0.2f)' % roc_auc[0])\n",
    "plt.plot(fpr[1], tpr[1],'c',label='bcc: ROC curve of (area = %0.2f)' % roc_auc[1])\n",
    "plt.plot(fpr[2], tpr[2],'b',label='bkl: ROC curve of (area = %0.2f)' % roc_auc[2])\n",
    "plt.plot(fpr[3], tpr[3],'g',label='df: ROC curve of (area = %0.2f)' % roc_auc[3])\n",
    "plt.plot(fpr[4], tpr[4],'y',label='mel: ROC curve of (area = %0.2f)' % roc_auc[4])\n",
    "plt.plot(fpr[5], tpr[5],'o-',label='nv: ROC curve of (area = %0.2f)' % roc_auc[5])\n",
    "plt.plot(fpr[6], tpr[6],'r',label='vasc: ROC curve of (area = %0.2f)' % roc_auc[6])\n",
    "\n",
    "plt.plot([0, 1], [0, 1], 'k--')\n",
    "plt.xlim([-0.1, 1.1])\n",
    "plt.ylim([-0.1, 1.1])\n",
    "plt.xlabel('False Positive Rate')\n",
    "plt.ylabel('True Positive Rate')\n",
    "plt.title('Receiver operating characteristic of %s'%targetnames[i])\n",
    "plt.legend(loc=\"lower right\")\n",
    "plt.show()"
   ]
  }
 ],
 "metadata": {
  "accelerator": "GPU",
  "colab": {
   "collapsed_sections": [],
   "machine_shape": "hm",
   "name": "ResNet34.ipynb",
   "provenance": [],
   "toc_visible": true
  },
  "kernelspec": {
   "display_name": "Python 3",
   "language": "python",
   "name": "python3"
  },
  "language_info": {
   "codemirror_mode": {
    "name": "ipython",
    "version": 3
   },
   "file_extension": ".py",
   "mimetype": "text/x-python",
   "name": "python",
   "nbconvert_exporter": "python",
   "pygments_lexer": "ipython3",
   "version": "3.9.12"
  }
 },
 "nbformat": 4,
 "nbformat_minor": 1
}
