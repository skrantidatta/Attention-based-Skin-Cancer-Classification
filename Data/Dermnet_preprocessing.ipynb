{
 "cells": [
  {
   "cell_type": "code",
   "execution_count": 8,
   "metadata": {},
   "outputs": [],
   "source": [
    "import pandas as pd\n",
    "import numpy as np\n",
    "import os\n",
    "import glob\n",
    "import random"
   ]
  },
  {
   "cell_type": "code",
   "execution_count": 2,
   "metadata": {},
   "outputs": [
    {
     "name": "stdout",
     "output_type": "stream",
     "text": [
      "Số lượng hình ảnh trong các thư mục con của D:/AI_CAPSTONE/skin_lesion/Dataset/Dermnet/test là: 4002\n"
     ]
    }
   ],
   "source": [
    "\n",
    "\n",
    "# Đường dẫn tới thư mục gốc chứa 23 thư mục con\n",
    "root_folder = 'D:/AI_CAPSTONE/skin_lesion/Dataset/Dermnet/test'\n",
    "\n",
    "# Tạo một biến đếm để theo dõi số lượng hình ảnh\n",
    "image_count_test = 0\n",
    "\n",
    "# Duyệt qua tất cả các thư mục con\n",
    "\n",
    "for folder_name in os.listdir(root_folder):\n",
    "    folder_path = os.path.join(root_folder, folder_name)\n",
    "\n",
    "    # Sử dụng glob để tìm tất cả các tệp hình ảnh trong thư mục con\n",
    "    image_files = glob.glob(os.path.join(folder_path, '*.jpg'))  # Thay '*.jpg' bằng phần mở rộng tệp ảnh của bạn\n",
    "\n",
    "    # Cộng số lượng tệp hình ảnh trong thư mục con này vào biến đếm\n",
    "    image_count_test += len(image_files)\n",
    "\n",
    "print(f\"Số lượng hình ảnh trong các thư mục con của {root_folder} là: {image_count_test}\")\n"
   ]
  },
  {
   "cell_type": "code",
   "execution_count": 3,
   "metadata": {},
   "outputs": [
    {
     "name": "stdout",
     "output_type": "stream",
     "text": [
      "Số lượng hình ảnh trong các thư mục con của D:/AI_CAPSTONE/skin_lesion/Dataset/Dermnet/train là: 15557\n"
     ]
    }
   ],
   "source": [
    "# Đường dẫn tới thư mục gốc chứa 23 thư mục con\n",
    "root_folder = 'D:/AI_CAPSTONE/skin_lesion/Dataset/Dermnet/train'\n",
    "\n",
    "# Tạo một biến đếm để theo dõi số lượng hình ảnh\n",
    "image_count_train = 0\n",
    "\n",
    "# Duyệt qua tất cả các thư mục con\n",
    "\n",
    "for folder_name in os.listdir(root_folder):\n",
    "    folder_path = os.path.join(root_folder, folder_name)\n",
    "\n",
    "    # Sử dụng glob để tìm tất cả các tệp hình ảnh trong thư mục con\n",
    "    image_files = glob.glob(os.path.join(folder_path, '*.jpg'))  # Thay '*.jpg' bằng phần mở rộng tệp ảnh của bạn\n",
    "\n",
    "    # Cộng số lượng tệp hình ảnh trong thư mục con này vào biến đếm\n",
    "    image_count_train += len(image_files)\n",
    "\n",
    "print(f\"Số lượng hình ảnh trong các thư mục con của {root_folder} là: {image_count_train}\")\n"
   ]
  },
  {
   "cell_type": "code",
   "execution_count": 9,
   "metadata": {},
   "outputs": [
    {
     "data": {
      "text/plain": [
       "19559"
      ]
     },
     "execution_count": 9,
     "metadata": {},
     "output_type": "execute_result"
    }
   ],
   "source": [
    "image_count =image_count_train + image_count_test\n",
    "image_count"
   ]
  },
  {
   "cell_type": "code",
   "execution_count": null,
   "metadata": {},
   "outputs": [],
   "source": [
    "dx_folder = 'D:/AI_CAPSTONE/skin_lesion/Dataset/Dermnet/Dermnet_images/'\n",
    "\n",
    "dx_files = [f for f in os.listdir(dx_folder)]\n",
    "for image_folder in dx_files:\n",
    "    # Lấy danh sách các tệp hình ảnh trong thư mục\n",
    "    image_files = [f for f in os.listdir(dx_folder+image_folder) if f.endswith('.jpg')]"
   ]
  },
  {
   "cell_type": "code",
   "execution_count": 6,
   "metadata": {},
   "outputs": [],
   "source": [
    "#sửa tên hình ảnh\n",
    "for i, image_file in enumerate(image_files):\n",
    "    new_filename = f'{image_folder}_{str(i+1).zfill(5)}.jpg'\n",
    "    old_filepath = os.path.join(dx_folder+image_folder, image_file)\n",
    "    new_filepath = os.path.join(dx_folder+image_folder, new_filename)\n",
    "    os.rename(old_filepath, new_filepath)"
   ]
  },
  {
   "cell_type": "markdown",
   "metadata": {},
   "source": [
    "\n",
    "Actinic Keratosis Basal Cell Carcinoma and other Malignant Lesions = akiec <br>\n",
    "Seborrheic Keratoses and other Benign Tumors = bkl <br>\n",
    "Melanoma Skin Cancer Nevi and Moles = mel <br>\n",
    "Vascular Tumors, Vasculitis = vasc <br>"
   ]
  },
  {
   "cell_type": "code",
   "execution_count": 12,
   "metadata": {},
   "outputs": [],
   "source": [
    "lib = {\n",
    "\"akiec\": \"Actinic Keratosis Basal Cell Carcinoma and other Malignant Lesions\",\n",
    "\"bkl\" : \"Seborrheic Keratoses and other Benign Tumors\",\n",
    "\"nv\": \"Melanoma Skin Cancer Nevi and Moles \",\n",
    "\"vasc\": \"Vascular Tumors\"\n",
    "}"
   ]
  },
  {
   "cell_type": "code",
   "execution_count": 5,
   "metadata": {},
   "outputs": [
    {
     "data": {
      "text/html": [
       "<div>\n",
       "<style scoped>\n",
       "    .dataframe tbody tr th:only-of-type {\n",
       "        vertical-align: middle;\n",
       "    }\n",
       "\n",
       "    .dataframe tbody tr th {\n",
       "        vertical-align: top;\n",
       "    }\n",
       "\n",
       "    .dataframe thead th {\n",
       "        text-align: right;\n",
       "    }\n",
       "</style>\n",
       "<table border=\"1\" class=\"dataframe\">\n",
       "  <thead>\n",
       "    <tr style=\"text-align: right;\">\n",
       "      <th></th>\n",
       "      <th>lesion_id</th>\n",
       "      <th>image_id</th>\n",
       "      <th>dx</th>\n",
       "      <th>dx_type</th>\n",
       "      <th>age</th>\n",
       "      <th>sex</th>\n",
       "      <th>localization</th>\n",
       "    </tr>\n",
       "  </thead>\n",
       "  <tbody>\n",
       "    <tr>\n",
       "      <th>0</th>\n",
       "      <td>HAM_0000118</td>\n",
       "      <td>ISIC_0027419</td>\n",
       "      <td>bkl</td>\n",
       "      <td>histo</td>\n",
       "      <td>80.0</td>\n",
       "      <td>male</td>\n",
       "      <td>scalp</td>\n",
       "    </tr>\n",
       "    <tr>\n",
       "      <th>1</th>\n",
       "      <td>HAM_0000118</td>\n",
       "      <td>ISIC_0025030</td>\n",
       "      <td>bkl</td>\n",
       "      <td>histo</td>\n",
       "      <td>80.0</td>\n",
       "      <td>male</td>\n",
       "      <td>scalp</td>\n",
       "    </tr>\n",
       "    <tr>\n",
       "      <th>2</th>\n",
       "      <td>HAM_0002730</td>\n",
       "      <td>ISIC_0026769</td>\n",
       "      <td>bkl</td>\n",
       "      <td>histo</td>\n",
       "      <td>80.0</td>\n",
       "      <td>male</td>\n",
       "      <td>scalp</td>\n",
       "    </tr>\n",
       "    <tr>\n",
       "      <th>3</th>\n",
       "      <td>HAM_0002730</td>\n",
       "      <td>ISIC_0025661</td>\n",
       "      <td>bkl</td>\n",
       "      <td>histo</td>\n",
       "      <td>80.0</td>\n",
       "      <td>male</td>\n",
       "      <td>scalp</td>\n",
       "    </tr>\n",
       "    <tr>\n",
       "      <th>4</th>\n",
       "      <td>HAM_0001466</td>\n",
       "      <td>ISIC_0031633</td>\n",
       "      <td>bkl</td>\n",
       "      <td>histo</td>\n",
       "      <td>75.0</td>\n",
       "      <td>male</td>\n",
       "      <td>ear</td>\n",
       "    </tr>\n",
       "  </tbody>\n",
       "</table>\n",
       "</div>"
      ],
      "text/plain": [
       "     lesion_id      image_id   dx dx_type   age   sex localization\n",
       "0  HAM_0000118  ISIC_0027419  bkl   histo  80.0  male        scalp\n",
       "1  HAM_0000118  ISIC_0025030  bkl   histo  80.0  male        scalp\n",
       "2  HAM_0002730  ISIC_0026769  bkl   histo  80.0  male        scalp\n",
       "3  HAM_0002730  ISIC_0025661  bkl   histo  80.0  male        scalp\n",
       "4  HAM_0001466  ISIC_0031633  bkl   histo  75.0  male          ear"
      ]
     },
     "execution_count": 5,
     "metadata": {},
     "output_type": "execute_result"
    }
   ],
   "source": [
    "data_pd = pd.read_csv('D:/AI_CAPSTONE/skin_lesion/Dataset/HAM10000/HAM10000_metadata.csv')\n",
    "data_pd.head()"
   ]
  },
  {
   "cell_type": "code",
   "execution_count": 24,
   "metadata": {},
   "outputs": [],
   "source": [
    "data=[]\n",
    "\n",
    "for image_folder in dx_files:\n",
    "    # Lấy danh sách các tệp hình ảnh trong thư mục\n",
    "    image_files = [f for f in os.listdir(dx_folder+image_folder) if f.endswith('.jpg')]\n",
    "    for image in image_files:\n",
    "        x = random.randrange(0, image_count)\n",
    "        while x in data:\n",
    "            x = random.randrange(0, image_count)\n",
    "        lesion_id = f\"Dermnet_{str(x).zfill(7)}\"\n",
    "\n",
    "        image_id = image.strip().split('.jpg')\n",
    "        image_id = image_id[0]\n",
    "\n",
    "        if image_folder not in lib.values():\n",
    "            dx = image_folder\n",
    "        else:\n",
    "            for key, value in lib.items():\n",
    "                if image_folder == value:\n",
    "                    dx = key\n",
    "        data.append([lesion_id, image_id, dx])"
   ]
  },
  {
   "cell_type": "code",
   "execution_count": 25,
   "metadata": {},
   "outputs": [],
   "source": [
    "df_Dermnet = pd.DataFrame(data, columns=['lesion_id', 'image_id', 'dx'])"
   ]
  },
  {
   "cell_type": "code",
   "execution_count": 34,
   "metadata": {},
   "outputs": [
    {
     "data": {
      "text/plain": [
       "array(['Acne and Rosacea', 'akiec', 'Atopic Dermatitis',\n",
       "       'Bullous Disease',\n",
       "       'Cellulitis Impetigo and other Bacterial Infections', 'Eczema',\n",
       "       'Exanthems and Drug Eruptions',\n",
       "       'Hair Loss Photos Alopecia and other Hair Diseases',\n",
       "       'Herpes HPV and other STDs',\n",
       "       'Light Diseases and Disorders of Pigmentation',\n",
       "       'Lupus and other Connective Tissue diseases',\n",
       "       'Melanoma Skin Cancer Nevi and Moles',\n",
       "       'Nail Fungus and other Nail Disease',\n",
       "       'Poison Ivy Photos and other Contact Dermatitis',\n",
       "       'Psoriasis pictures Lichen Planus and related diseases',\n",
       "       'Scabies Lyme Disease and other Infestations and Bites', 'bkl',\n",
       "       'Systemic Disease',\n",
       "       'Tinea Ringworm Candidiasis and other Fungal Infections',\n",
       "       'Urticaria Hives', 'vasc', 'Vasculitis',\n",
       "       'Warts Molluscum and other Viral Infections'], dtype=object)"
      ]
     },
     "execution_count": 34,
     "metadata": {},
     "output_type": "execute_result"
    }
   ],
   "source": [
    "df_Dermnet['dx'].unique()"
   ]
  },
  {
   "cell_type": "code",
   "execution_count": 35,
   "metadata": {},
   "outputs": [],
   "source": [
    "df_Dermnet.to_csv('Dermnet_metadata.csv')"
   ]
  }
 ],
 "metadata": {
  "kernelspec": {
   "display_name": "Python 3",
   "language": "python",
   "name": "python3"
  },
  "language_info": {
   "codemirror_mode": {
    "name": "ipython",
    "version": 3
   },
   "file_extension": ".py",
   "mimetype": "text/x-python",
   "name": "python",
   "nbconvert_exporter": "python",
   "pygments_lexer": "ipython3",
   "version": "3.9.12"
  }
 },
 "nbformat": 4,
 "nbformat_minor": 2
}
